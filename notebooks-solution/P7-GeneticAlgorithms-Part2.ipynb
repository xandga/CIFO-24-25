{
 "cells": [
  {
   "cell_type": "code",
   "execution_count": 1,
   "metadata": {},
   "outputs": [],
   "source": [
    "import sys\n",
    "sys.path.append('..')"
   ]
  },
  {
   "cell_type": "code",
   "execution_count": 2,
   "metadata": {},
   "outputs": [],
   "source": [
    "from copy import deepcopy\n",
    "import random\n",
    "from library.problems.ks import KSSolution\n",
    "from library.problems.data.ks_data import weights, values, capacity\n",
    "from library.algorithms.genetic_algorithms.algorithm import genetic_algorithm\n",
    "from library.algorithms.genetic_algorithms.selection import fitness_proportionate_selection"
   ]
  },
  {
   "cell_type": "markdown",
   "metadata": {},
   "source": [
    "## Genetic operators"
   ]
  },
  {
   "cell_type": "markdown",
   "metadata": {},
   "source": [
    "### Binary Standard Mutation\n",
    "\n",
    "This mutation operator is used for binary string or list representations, such as '10001' or [1, 0, 0, 0, 1], found in problems like the Knapsack or IntBin problems.\n",
    "\n",
    "Standard binary mutation works by iterating over each position (or gene) in the binary string. For each gene, there is a fixed mutation probability that determines whether the bit should be flipped (a 0 becomes 1 and vice versa)\n",
    "\n",
    "![Binary Standard Mutation](images/binary-std-mutation.png)\n",
    "\n",
    "Let's implement a function for standard binary mutation. It takes a binary representation and a mutation probability as inputs and returns a new representation.\n"
   ]
  },
  {
   "cell_type": "code",
   "execution_count": 3,
   "metadata": {},
   "outputs": [],
   "source": [
    "def binary_standard_mutation(representation: str | list, mut_prob):\n",
    "    \"\"\"\n",
    "    Applies standard binary mutation to a binary string or list representation.\n",
    "\n",
    "    This function supports both binary strings (e.g., \"10101\") and binary lists \n",
    "    (e.g., [1, 0, 1, 0, 1]) containing either string characters (\"0\", \"1\") or \n",
    "    integers (0, 1). Each gene in the representation is independently flipped \n",
    "    with a given mutation probability, while preserving the original data type \n",
    "    of the genes.\n",
    "\n",
    "    Parameters:\n",
    "        representation (str or list): The binary representation to mutate.\n",
    "        mut_prob (float): The probability of flipping each gene.\n",
    "\n",
    "    Returns:\n",
    "        str or list: A new mutated representation of the same type as the input.\n",
    "\n",
    "    Raises:\n",
    "        ValueError: If the input contains elements other than 0, 1, \"0\", or \"1\".\n",
    "    \"\"\"\n",
    "\n",
    "    # Initialize new representation as a copy of current representation\n",
    "    new_representation = deepcopy(representation)\n",
    "\n",
    "    if random.random() <= mut_prob:\n",
    "        # Strings are not mutable. Let's convert temporarily to a list\n",
    "        if isinstance(representation, str):\n",
    "            new_representation = list(new_representation)\n",
    "\n",
    "        for char_ix, char in enumerate(representation):\n",
    "            if char == \"1\":\n",
    "                new_representation[char_ix] = \"0\"\n",
    "            elif char == 1:\n",
    "                new_representation[char_ix] = 0\n",
    "            elif char == \"0\":\n",
    "                new_representation[char_ix] = \"1\"\n",
    "            elif char == 0:\n",
    "                new_representation[char_ix] = 1\n",
    "            else:\n",
    "                raise ValueError(f\"Invalid character {char}. Can not apply binary standard mutation\")\n",
    "    \n",
    "        # If representation was a string, convert list back to string\n",
    "        if isinstance(representation, str):\n",
    "            new_representation = \"\".join(new_representation)\n",
    "\n",
    "    return new_representation"
   ]
  },
  {
   "cell_type": "markdown",
   "metadata": {},
   "source": [
    "Let's test on the Knapsack problem:"
   ]
  },
  {
   "cell_type": "code",
   "execution_count": 4,
   "metadata": {},
   "outputs": [
    {
     "name": "stdout",
     "output_type": "stream",
     "text": [
      "Solution: [1, 1, 0, 1, 0, 0, 0, 1, 1, 1, 0, 1, 1, 1, 0, 1, 1, 1, 0, 0, 0, 1, 0, 1, 1, 0, 0, 1, 1, 0, 0, 0, 1, 1, 1, 0, 1, 1, 0, 1, 1, 1, 1, 0, 1, 0, 0, 0, 1, 0]\n",
      "New solution: [1, 1, 0, 1, 0, 0, 0, 1, 1, 1, 0, 1, 1, 1, 0, 1, 1, 1, 0, 0, 0, 1, 0, 1, 1, 0, 0, 1, 1, 0, 0, 0, 1, 1, 1, 0, 1, 1, 0, 1, 1, 1, 1, 0, 1, 0, 0, 0, 1, 0]\n"
     ]
    }
   ],
   "source": [
    "solution = KSSolution(values=values, weights=weights, capacity=capacity)\n",
    "\n",
    "print(\"Solution:\", solution)\n",
    "\n",
    "new_solution_repr = binary_standard_mutation(solution.repr, mut_prob=0.2)\n",
    "\n",
    "print(\"New solution:\", new_solution_repr)"
   ]
  },
  {
   "cell_type": "markdown",
   "metadata": {},
   "source": [
    "### Swap mutation\n",
    "\n",
    "Swap mutation is a general-purpose operator suitable for any type of string or list-based representation.\n",
    "\n",
    "It works by randomly selecting two positions (genes) in the solution and swapping their values. This swap is applied with a certain mutation probability.\n",
    "\n",
    "![Swap Mutation](images/swap-mutation.png)\n",
    "\n",
    "Let's implement the swap mutation function. It takes a representation and a mutation probability as inputs and returns a new solution where two genes may have been swapped."
   ]
  },
  {
   "cell_type": "code",
   "execution_count": 5,
   "metadata": {},
   "outputs": [],
   "source": [
    "def swap_mutation(representation, mut_prob):\n",
    "    \"\"\"\n",
    "    Applies swap mutation to a solution representation with a given probability.\n",
    "\n",
    "    Swap mutation randomly selects two different positions (genes) in the \n",
    "    representation and swaps their values. This operator is commonly used for \n",
    "    permutation-based representations but works for any list or string.\n",
    "\n",
    "    The function preserves the type of the input representation: if the input is \n",
    "    a string, the output will also be a string; if it's a list, the output will \n",
    "    remain a list.\n",
    "\n",
    "    Parameters:\n",
    "        representation (str or list): The solution to mutate.\n",
    "        mut_prob (float): The probability of performing the swap mutation.\n",
    "\n",
    "    Returns:\n",
    "        str or list: A new solution with two genes swapped, of the same type as the input.\n",
    "    \"\"\"\n",
    "\n",
    "    # Strings are not mutable. Let's convert to list first\n",
    "    if isinstance(representation, str):\n",
    "        new_representation = deepcopy(list(representation))\n",
    "    elif isinstance(representation, list):\n",
    "        new_representation = deepcopy(representation)\n",
    "\n",
    "    if random.random() <= mut_prob:\n",
    "        first_idx = random.randint(0, len(representation) - 1)\n",
    "\n",
    "        # To guarantee we select two different positions\n",
    "        second_idx = first_idx\n",
    "        while second_idx == first_idx:\n",
    "            second_idx = random.randint(0, len(representation) - 1)\n",
    "\n",
    "        new_representation[first_idx] = representation[second_idx]\n",
    "        new_representation[second_idx] = representation[first_idx]\n",
    "\n",
    "\n",
    "    # If representation was a string, convert list back to string\n",
    "    if isinstance(representation, str):\n",
    "        new_representation = \"\".join(new_representation)\n",
    "    \n",
    "    return new_representation"
   ]
  },
  {
   "cell_type": "markdown",
   "metadata": {},
   "source": [
    "Now let's test on the Knapsack problem."
   ]
  },
  {
   "cell_type": "code",
   "execution_count": 6,
   "metadata": {},
   "outputs": [
    {
     "name": "stdout",
     "output_type": "stream",
     "text": [
      "Solution: [1, 0, 1, 1, 0, 1, 1, 1, 0, 1, 1, 0, 1, 1, 0, 0, 1, 0, 1, 0, 0, 0, 0, 0, 1, 1, 1, 1, 1, 1, 0, 1, 0, 1, 0, 1, 0, 1, 0, 1, 1, 1, 1, 1, 1, 0, 0, 0, 0, 0]\n",
      "New solution: [1, 0, 1, 1, 0, 1, 1, 1, 0, 1, 1, 0, 1, 1, 0, 0, 1, 0, 1, 0, 0, 0, 0, 0, 1, 1, 1, 1, 1, 1, 0, 1, 0, 1, 0, 1, 0, 1, 0, 1, 1, 1, 1, 1, 1, 0, 0, 0, 0, 0]\n"
     ]
    }
   ],
   "source": [
    "solution = KSSolution(values=values, weights=weights, capacity=capacity)\n",
    "\n",
    "print(\"Solution:\", solution)\n",
    "\n",
    "new_solution_repr = swap_mutation(solution.repr, mut_prob=0.8)\n",
    "\n",
    "print(\"New solution:\", new_solution_repr)"
   ]
  },
  {
   "cell_type": "markdown",
   "metadata": {},
   "source": [
    "### Standard Crossover\n",
    "\n",
    "Standard crossover takes two parent solutions, randomly selects a crossover point (an index between two consecutive genes) and exchanges the tail segments of the parents at that point. This process produces two new offspring that are combinations of their parents’ genetic material.\n",
    "\n",
    "![Standard Crossover](images/std-crossover.png)\n",
    "\n",
    "Let's implement the standard crossover function. It takes two parent representations as input and returns two offspring representations created by recombining segments from the parents at a randomly chosen crossover point."
   ]
  },
  {
   "cell_type": "code",
   "execution_count": null,
   "metadata": {},
   "outputs": [],
   "source": [
    "def standard_crossover(parent1_repr, parent2_repr):\n",
    "    \"\"\"\n",
    "    Performs standard one-point crossover on two parent representations.\n",
    "\n",
    "    This operator selects a random crossover point (not at the edges) and \n",
    "    exchanges the tail segments of the two parents to produce two offspring. \n",
    "    The crossover point is the same for both parents and ensures at least one \n",
    "    gene is inherited from each parent before and after the point.\n",
    "\n",
    "    Parameters:\n",
    "        parent1_repr (str or list): The first parent representation.\n",
    "        parent2_repr (str or list): The second parent representation.\n",
    "            Both parents must have the same length and type.\n",
    "\n",
    "    Returns:\n",
    "        tuple: A pair of offspring representations (offspring1, offspring2), \n",
    "        of the same type as the parents.\n",
    "\n",
    "    Raises:\n",
    "        ValueError: If parent representations are not the same length.\n",
    "    \"\"\"\n",
    "\n",
    "    # Choose random crossover point\n",
    "    xo_point = random.randint(1, len(parent1_repr) - 1)\n",
    "\n",
    "    offspring1_repr = parent1_repr[:xo_point] + parent2_repr[xo_point:]\n",
    "    offspring2_repr = parent2_repr[:xo_point] + parent1_repr[xo_point:]\n",
    "\n",
    "    return offspring1_repr, offspring2_repr"
   ]
  },
  {
   "cell_type": "markdown",
   "metadata": {},
   "source": [
    "Now let's test on the Knapsack problem."
   ]
  },
  {
   "cell_type": "code",
   "execution_count": 8,
   "metadata": {},
   "outputs": [
    {
     "name": "stdout",
     "output_type": "stream",
     "text": [
      "Parent 1: [1, 0, 0, 0, 0, 1, 0, 0, 0, 1, 0, 1, 0, 0, 1, 0, 1, 1, 0, 0, 1, 1, 0, 0, 0, 0, 0, 0, 1, 1, 1, 1, 0, 0, 1, 1, 0, 1, 1, 0, 1, 0, 1, 0, 1, 0, 1, 1, 1, 1]\n",
      "Parent 2: [1, 1, 0, 0, 0, 1, 1, 1, 1, 1, 0, 0, 1, 0, 0, 1, 0, 1, 0, 1, 1, 0, 1, 1, 0, 0, 1, 1, 0, 0, 0, 1, 1, 0, 1, 0, 0, 0, 1, 1, 1, 0, 1, 0, 1, 0, 0, 1, 0, 1]\n",
      "Offspring 1: [1, 0, 0, 0, 0, 1, 0, 0, 0, 1, 0, 1, 0, 0, 1, 0, 1, 1, 0, 0, 1, 1, 0, 0, 0, 0, 0, 0, 1, 0, 0, 1, 1, 0, 1, 0, 0, 0, 1, 1, 1, 0, 1, 0, 1, 0, 0, 1, 0, 1]\n",
      "Offspring 2: [1, 1, 0, 0, 0, 1, 1, 1, 1, 1, 0, 0, 1, 0, 0, 1, 0, 1, 0, 1, 1, 0, 1, 1, 0, 0, 1, 1, 0, 1, 1, 1, 0, 0, 1, 1, 0, 1, 1, 0, 1, 0, 1, 0, 1, 0, 1, 1, 1, 1]\n"
     ]
    }
   ],
   "source": [
    "parent1 = KSSolution(values=values, weights=weights, capacity=capacity)\n",
    "parent2 = KSSolution(values=values, weights=weights, capacity=capacity)\n",
    "\n",
    "print(\"Parent 1:\", parent1)\n",
    "print(\"Parent 2:\", parent2)\n",
    "\n",
    "offspring1_repr, offspring2_repr = standard_crossover(parent1.repr, parent2.repr)\n",
    "\n",
    "print(\"Offspring 1:\", offspring1_repr)\n",
    "print(\"Offspring 2:\", offspring2_repr)"
   ]
  },
  {
   "cell_type": "markdown",
   "metadata": {},
   "source": [
    "## Solving Knapsack with Genetic Algorithms\n",
    "\n",
    "![Knapsack Solutions](images/ks-solutions.png)\n",
    "\n",
    "In the last notebook we implemented the genetic algorithm function. This function receives the following arguments:\n",
    "- `initial_population`: List of individuals (randomly generated solutions)\n",
    "- `max_gen`: Maximum number of generations\n",
    "- `selection_algorithm`: A function that receives a population, selects one individual based on fitness and returns it\n",
    "- `maximization`: Boolean that indicates if we're solving a maximization or minimization problem\n",
    "- `xo_prob`: Probability of crossover (usually big)\n",
    "- `mut_prob`: Probability of mutation (usually small)\n",
    "- `elistism`: A boolean that indicates if elitism should be used or not\n",
    "\n",
    "For this function to work, we need to comply with some assumptions\n",
    "- individuals have `fitness`, `crossover` and `mutation` methods\n",
    "- `crossover` always returns two offspring\n",
    "- both `crossover` and `mutation` methods return new individuals instead of modifying individuals in-place\n",
    "\n",
    "To solve the Knapsack Problem (KS) using this GA framework, we can define a new class, `KSGASolution`, which extends `KSSolution`. This allows us to inherit methods like `fitness`, `random_initial_representation`, and the `repr` attribute.\n",
    "\n",
    "In `KSGASolution`, we'll implement the required `crossover` and `mutation` methods, adhering to the above assumptions.\n",
    "\n",
    "For simplicity, let's use the standard crossover and binary standard mutation."
   ]
  },
  {
   "cell_type": "code",
   "execution_count": 9,
   "metadata": {},
   "outputs": [],
   "source": [
    "class KSGASolution(KSSolution):\n",
    "    # Standard crossover\n",
    "    def crossover(self, other_solution):\n",
    "        # Choose random crossover point\n",
    "        xo_point = random.randint(1, len(self.repr) - 2)\n",
    "\n",
    "        offspring1_repr = self.repr[:xo_point] + other_solution.repr[xo_point:]\n",
    "        offspring2_repr = other_solution.repr[:xo_point] + self.repr[xo_point:]\n",
    "\n",
    "        return (\n",
    "            KSGASolution(values=self.values, weights=self.weights, capacity=self.capacity, repr=offspring1_repr),\n",
    "            KSGASolution(values=self.values, weights=self.weights, capacity=self.capacity, repr=offspring2_repr)\n",
    "        )\n",
    "\n",
    "    # Standard binary mutation\n",
    "    def mutation(self, mut_prob):\n",
    "        new_repr = deepcopy(self.repr)\n",
    "        for char_ix, char in enumerate(self.repr):\n",
    "            if char == 1:\n",
    "                new_char = 0\n",
    "            elif char == 0:\n",
    "                new_char = 1\n",
    "            else:\n",
    "                raise ValueError(\"Invalid character. Can not apply standard mutation\")\n",
    "            \n",
    "            if random.random() <= mut_prob:\n",
    "                new_repr[char_ix] = new_char\n",
    "        \n",
    "        return KSGASolution(values=self.values, weights=self.weights, capacity=self.capacity, repr=new_repr)"
   ]
  },
  {
   "cell_type": "markdown",
   "metadata": {},
   "source": [
    "Or we could just the functions we implemented in the beginning of the notebook!"
   ]
  },
  {
   "cell_type": "code",
   "execution_count": 10,
   "metadata": {},
   "outputs": [],
   "source": [
    "class KSGASolution(KSSolution):\n",
    "    # Standard crossover\n",
    "    def crossover(self, other_solution):\n",
    "        offspring1_repr, offspring2_repr = standard_crossover(self.repr, other_solution.repr)\n",
    "\n",
    "        return (\n",
    "            KSGASolution(values=self.values, weights=self.weights, capacity=self.capacity, repr=offspring1_repr),\n",
    "            KSGASolution(values=self.values, weights=self.weights, capacity=self.capacity, repr=offspring2_repr)\n",
    "        )\n",
    "\n",
    "    # Standard binary mutation\n",
    "    def mutation(self, mut_prob):\n",
    "        new_repr = binary_standard_mutation(self.repr, mut_prob)\n",
    "\n",
    "        return KSGASolution(values=self.values, weights=self.weights, capacity=self.capacity, repr=new_repr)"
   ]
  },
  {
   "cell_type": "markdown",
   "metadata": {},
   "source": [
    "#### How can I test different crossover and mutation operators?\n",
    "\n",
    "There are two approaches:\n",
    "- Create separate classes for each combination of crossover and mutation operators.\n",
    "\n",
    "    For example:\n",
    "    - `KS_StdXO_StdMut_GASolution`\n",
    "    - `KS_StdXO_SwapMut_GASolution`\n",
    "\n",
    "    This method works but can quickly become repetitive and hard to maintain as the number of combinations grows.\n",
    "\n",
    "- Make the solution class accept crossover and mutation functions as parameters during initialization.\n",
    "\n",
    "    These functions would operate directly on the internal representation of the individual.\n",
    "    ✅ This approach is much more modular and flexible!\n",
    "    You can easily swap operators without needing to define new classes each time, making experimentation and tuning much easier."
   ]
  },
  {
   "cell_type": "code",
   "execution_count": 11,
   "metadata": {},
   "outputs": [],
   "source": [
    "class KSGASolution(KSSolution):\n",
    "    def __init__(\n",
    "        self,\n",
    "        values,\n",
    "        weights,\n",
    "        capacity,\n",
    "        mutation_function, # Callable\n",
    "        crossover_function, # Callable\n",
    "        repr = None\n",
    "    ):\n",
    "        super().__init__(\n",
    "            values=values,\n",
    "            weights=weights,\n",
    "            capacity=capacity,\n",
    "            repr=repr,\n",
    "        )\n",
    "\n",
    "        # Save as attributes for access in methods\n",
    "        self.mutation_function = mutation_function\n",
    "        self.crossover_function = crossover_function\n",
    "\n",
    "    \n",
    "    def mutation(self, mut_prob):\n",
    "        # Apply mutation function to representation\n",
    "        new_repr = self.mutation_function(self.repr, mut_prob)\n",
    "        # Create and return individual with mutated representation\n",
    "        return KSGASolution(\n",
    "            values=self.values,\n",
    "            weights=self.weights,\n",
    "            capacity=self.capacity,\n",
    "            mutation_function=self.mutation_function,\n",
    "            crossover_function=self.crossover_function,\n",
    "            repr=new_repr\n",
    "        )\n",
    "\n",
    "    def crossover(self, other_solution):\n",
    "        # Apply crossover function to self representation and other solution representation\n",
    "        offspring1_repr, offspring2_repr = self.crossover_function(self.repr, other_solution.repr)\n",
    "\n",
    "        # Create and return offspring with new representations\n",
    "        return (\n",
    "            KSGASolution(\n",
    "                values=self.values,\n",
    "                weights=self.weights,\n",
    "                capacity=self.capacity,\n",
    "                mutation_function=self.mutation_function,\n",
    "                crossover_function=self.crossover_function,\n",
    "                repr=offspring1_repr\n",
    "            ),\n",
    "            KSGASolution(\n",
    "                values=self.values,\n",
    "                weights=self.weights,\n",
    "                capacity=self.capacity,\n",
    "                mutation_function=self.mutation_function,\n",
    "                crossover_function=self.crossover_function,\n",
    "                repr=offspring2_repr\n",
    "            )\n",
    "        )"
   ]
  },
  {
   "cell_type": "markdown",
   "metadata": {},
   "source": [
    "Let's test."
   ]
  },
  {
   "cell_type": "code",
   "execution_count": 12,
   "metadata": {},
   "outputs": [],
   "source": [
    "repr = [0, 0, 0, 1, 1, 0, 0, 0, 1, 1, 0, 1, 1, 0, 0, 0, 0, 1, 1, 0, 1, 1, 0, 0, 1, 1, 0, 0, 1, 1, 0, 1, 1, 0, 1, 1, 0, 1, 0, 0, 1, 0, 0, 1, 1, 0, 0, 0, 1, 1]\n",
    "\n",
    "# Using std crossover and std mutation\n",
    "solution1 = KSGASolution(\n",
    "    values=values,\n",
    "    weights=weights,\n",
    "    capacity=capacity,\n",
    "    mutation_function=binary_standard_mutation,\n",
    "    crossover_function=standard_crossover,\n",
    "    repr=repr\n",
    ")\n",
    "\n",
    "\n",
    "# Using std crossover and swap mutation\n",
    "solution2 = KSGASolution(\n",
    "    values=values,\n",
    "    weights=weights,\n",
    "    capacity=capacity,\n",
    "    mutation_function=swap_mutation,\n",
    "    crossover_function=standard_crossover,\n",
    "    repr=repr\n",
    ")"
   ]
  },
  {
   "cell_type": "code",
   "execution_count": 13,
   "metadata": {},
   "outputs": [
    {
     "data": {
      "text/plain": [
       "[1, 1, 1, 0, 0, 1, 1, 1, 0, 0, 1, 0, 0, 1, 1, 1, 1, 0, 0, 1, 0, 0, 1, 1, 0, 0, 1, 1, 0, 0, 1, 0, 0, 1, 0, 0, 1, 0, 1, 1, 0, 1, 1, 0, 0, 1, 1, 1, 0, 0]"
      ]
     },
     "execution_count": 13,
     "metadata": {},
     "output_type": "execute_result"
    }
   ],
   "source": [
    "# Apply standard binary mutation\n",
    "solution1.mutation(mut_prob=0.2)"
   ]
  },
  {
   "cell_type": "code",
   "execution_count": 14,
   "metadata": {},
   "outputs": [
    {
     "data": {
      "text/plain": [
       "[0, 0, 0, 1, 1, 0, 0, 0, 1, 1, 0, 1, 1, 0, 0, 0, 0, 1, 1, 0, 1, 1, 0, 0, 1, 1, 0, 0, 1, 1, 0, 1, 1, 0, 1, 1, 0, 1, 0, 0, 1, 0, 0, 1, 1, 0, 0, 0, 1, 1]"
      ]
     },
     "execution_count": 14,
     "metadata": {},
     "output_type": "execute_result"
    }
   ],
   "source": [
    "# Apply standard swap mutation\n",
    "solution2.mutation(mut_prob=0.2)"
   ]
  },
  {
   "cell_type": "markdown",
   "metadata": {},
   "source": [
    "### Apply genetic algorithm\n",
    "\n",
    "Let's run the genetic algorithm to solve Knapsack using standard crossover and standard binary mutation"
   ]
  },
  {
   "cell_type": "code",
   "execution_count": null,
   "metadata": {},
   "outputs": [
    {
     "name": "stdout",
     "output_type": "stream",
     "text": [
      "Best solution: [1, 1, 1, 0, 0, 0, 1, 0, 0, 0, 0, 1, 1, 0, 1, 1, 1, 1, 1, 0, 0, 1, 0, 0, 1, 1, 0, 1, 1, 1, 1, 1, 0, 0, 1, 1, 0, 1, 1, 0, 0, 1, 1, 0, 1, 0, 1, 1, 1, 1]\n",
      "Fitness: 6012\n"
     ]
    }
   ],
   "source": [
    "POP_SIZE = 50\n",
    "initial_population = [\n",
    "    KSGASolution(\n",
    "        values=values,\n",
    "        weights=weights,\n",
    "        capacity=capacity,\n",
    "        mutation_function=binary_standard_mutation,\n",
    "        crossover_function=standard_crossover,\n",
    "    )\n",
    "    for _ in range(POP_SIZE)\n",
    "]\n",
    "\n",
    "\n",
    "best_solution = genetic_algorithm(\n",
    "    initial_population=initial_population,\n",
    "    selection_algorithm=fitness_proportionate_selection,\n",
    "    max_gen=50,\n",
    "    maximization=True,\n",
    "    verbose=False,\n",
    "    elitism=True,\n",
    ")\n",
    "\n",
    "print(\"Best solution:\", best_solution)\n",
    "print(\"Fitness:\", best_solution.fitness())"
   ]
  },
  {
   "cell_type": "markdown",
   "metadata": {},
   "source": [
    "And finally, let's apply the genetic algorithm again, but this time using swap mutation with a higher probability since it is not as disruptive as standard binary mutation."
   ]
  },
  {
   "cell_type": "code",
   "execution_count": null,
   "metadata": {},
   "outputs": [
    {
     "name": "stdout",
     "output_type": "stream",
     "text": [
      "Best solution: [1, 1, 1, 1, 1, 0, 1, 0, 1, 0, 1, 1, 1, 1, 1, 1, 1, 1, 0, 0, 0, 0, 1, 0, 0, 1, 0, 0, 0, 1, 1, 1, 0, 0, 0, 1, 0, 0, 0, 1, 0, 1, 0, 0, 1, 0, 0, 1, 1, 1]\n",
      "Fitness: 6772\n"
     ]
    }
   ],
   "source": [
    "POP_SIZE = 50\n",
    "initial_population = [\n",
    "    KSGASolution(\n",
    "        values=values,\n",
    "        weights=weights,\n",
    "        capacity=capacity,\n",
    "        mutation_function=swap_mutation,\n",
    "        crossover_function=standard_crossover,\n",
    "    )\n",
    "    for _ in range(POP_SIZE)\n",
    "]\n",
    "\n",
    "\n",
    "best_solution = genetic_algorithm(\n",
    "    initial_population=initial_population,\n",
    "    selection_algorithm=fitness_proportionate_selection,\n",
    "    max_gen=50,\n",
    "    mut_prob=0.8,\n",
    "    maximization=True,\n",
    "    verbose=False,\n",
    "    elitism=True,\n",
    ")\n",
    "\n",
    "print(\"Best solution:\", best_solution)\n",
    "print(\"Fitness:\", best_solution.fitness())"
   ]
  }
 ],
 "metadata": {
  "kernelspec": {
   "display_name": "venv",
   "language": "python",
   "name": "python3"
  },
  "language_info": {
   "codemirror_mode": {
    "name": "ipython",
    "version": 3
   },
   "file_extension": ".py",
   "mimetype": "text/x-python",
   "name": "python",
   "nbconvert_exporter": "python",
   "pygments_lexer": "ipython3",
   "version": "3.13.3"
  }
 },
 "nbformat": 4,
 "nbformat_minor": 2
}
