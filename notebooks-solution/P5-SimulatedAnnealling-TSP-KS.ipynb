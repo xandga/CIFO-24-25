{
 "cells": [
  {
   "cell_type": "code",
   "execution_count": 1,
   "metadata": {},
   "outputs": [],
   "source": [
    "import sys\n",
    "sys.path.append('..')"
   ]
  },
  {
   "cell_type": "code",
   "execution_count": null,
   "metadata": {},
   "outputs": [],
   "source": [
    "import random\n",
    "import numpy as np\n",
    "from library.solution import Solution\n",
    "from library.problems.tsp import TSPSolution\n",
    "from library.problems.ks import KSSolution"
   ]
  },
  {
   "cell_type": "markdown",
   "metadata": {},
   "source": [
    "## Simulated Annealing\n",
    "\n",
    "Simulated Annealing is an optimization algorithm that explores solutions by allowing both improvements and occasional worse moves to escape local optima. The probability of accepting worse solutions decreases over time, controlled by a temperature parameter that gradually cools. This balance between exploration and exploitation helps the algorithm find a global optimum rather than getting stuck in suboptimal solutions."
   ]
  },
  {
   "cell_type": "markdown",
   "metadata": {},
   "source": [
    "### Pseudo-code\n",
    "\n",
    "1. Define the current solution (usually at random)\n",
    "2. Repeat until termination condition (usually nr of iterations):\n",
    "    1. Repeat **L** times:\n",
    "        1. Choose a random neighbor of the current solution\n",
    "        2. If random neighbor is better than current solution, replace current solution by neighbor. Otherwise, accept the nieghbor as the current solution with probability: $$exp(-\\frac{|neighbor.fitness - current.fitness|}{C})$$\n",
    "    2. Decrement **C** by dividing it by **H**\n",
    "3. Return current solution"
   ]
  },
  {
   "cell_type": "markdown",
   "metadata": {},
   "source": [
    "### Algorithm Implementation\n",
    "\n",
    "Let's implement the simmulated annealing algorithm using python. The function that implements the algorithm should receive the following arguments:\n",
    "- `initial_solution`: Initial current solution\n",
    "- `C`: Control parameter\n",
    "- `L`: Number of iterations with same C\n",
    "- `H`: Decreasing rate of parameter C\n",
    "- `maximization`: boolean that indicates if we're solving a maximization or minimization problem\n",
    "- `max_iter`: maximum number of interations."
   ]
  },
  {
   "cell_type": "code",
   "execution_count": 3,
   "metadata": {},
   "outputs": [],
   "source": [
    "from copy import deepcopy\n",
    "\n",
    "def simulated_annealing(\n",
    "    initial_solution: Solution,\n",
    "    C: float = 100,\n",
    "    L: int = 10,\n",
    "    H: float = 1.1,\n",
    "    maximization: bool = True,\n",
    "    max_iter: int | None = 10,\n",
    "    verbose: bool = False,\n",
    "):\n",
    "    # 1. Initialize solution\n",
    "    current_solution = initial_solution\n",
    "\n",
    "    iter = 1\n",
    "\n",
    "    if verbose:\n",
    "        print(f'Initial solution: {current_solution.repr} with fitness {current_solution.fitness()}')\n",
    "\n",
    "    # 2. Repeat until termination condition\n",
    "    while iter <= max_iter:\n",
    "    \n",
    "        # 2.1 For L times\n",
    "        for _ in range(L):\n",
    "            # 2.1.1 Get random neighbor\n",
    "            random_neighbor = current_solution.get_random_neighbor()\n",
    "\n",
    "            neighbor_fitness = random_neighbor.fitness()\n",
    "            current_fitness = current_solution.fitness()\n",
    "\n",
    "            if verbose:\n",
    "                print(f\"Random neighbor {random_neighbor} with fitness: {neighbor_fitness}\")\n",
    "\n",
    "            # 2.1.2 Decide if neighbor is accepted as new solution\n",
    "            # If neighbor is better, accept it\n",
    "            if (\n",
    "                (maximization and (neighbor_fitness >= current_fitness))\n",
    "                or(not maximization and (neighbor_fitness <= current_fitness))\n",
    "            ):\n",
    "                current_solution = deepcopy(random_neighbor)\n",
    "                if verbose:\n",
    "                    print(f'Neighbor is better. Replaced current solution by neighbor.')\n",
    "\n",
    "            # If neighbor is worse, accept it with a certain probability\n",
    "            # Maximizaton: Neighbor is worse than current solution if fitness is lower\n",
    "            # Minimization: Neighbor is worse than current solution if fitness is higher\n",
    "            elif (\n",
    "                (maximization and (neighbor_fitness < current_fitness)\n",
    "                 or (not maximization and (neighbor_fitness > current_fitness)))\n",
    "            ):\n",
    "                # Generate random number between 0 and 1\n",
    "                random_float = random.random()\n",
    "                # Define probability P\n",
    "                p = np.exp(-abs(current_fitness - neighbor_fitness) / C)\n",
    "                if verbose:\n",
    "                    print(f'Probability of accepting worse neighbor: {p}')\n",
    "                # The event happens with probability P if the random number if lower than P\n",
    "                if random_float < p:\n",
    "                    current_solution = deepcopy(random_neighbor)\n",
    "                    if verbose:\n",
    "                        print(f'Neighbor is worse and was accepted.')\n",
    "                else:\n",
    "                    if verbose:\n",
    "                        print(\"Neighbor is worse and was not accepted.\")\n",
    "\n",
    "            if verbose:\n",
    "                print(f\"New current solution {current_solution} with fitness {current_solution.fitness()}\")\n",
    "\n",
    "        # 2.2 Update C\n",
    "        C = C / H\n",
    "        if verbose:\n",
    "            print(f'Decreased C. New value: {C}')\n",
    "            print('--------------')\n",
    "\n",
    "        iter += 1\n",
    "\n",
    "    if verbose:\n",
    "        print(f'Best solution found: {current_solution.repr} with fitness {current_solution.fitness()}')\n",
    "    \n",
    "    # 3. Return solution\n",
    "    return current_solution"
   ]
  },
  {
   "cell_type": "markdown",
   "metadata": {},
   "source": [
    "Notice that we assume that a solution has the following methods:\n",
    "- `fitness()`\n",
    "- `get_random_neighbor()`\n",
    "\n",
    "Additionally, `get_random_neighbor()` must return a solution that also implements these methods."
   ]
  },
  {
   "cell_type": "markdown",
   "metadata": {},
   "source": [
    "### Solving TSP with Simulated Annealing"
   ]
  },
  {
   "cell_type": "markdown",
   "metadata": {},
   "source": [
    "To solve TSP with simulated annealing we need to define a `TSPSASolution` class that inherits from `TSPSolution` and implements the `get_random_neighbor()` method.\n",
    "\n",
    "In the previous notebook, we implemented `TSPSolution`, which provides the `fitness()` and `random_initial_value()` methods. We also created `TSPHillClimbingSolution`, which extends `TSPSolution` and implements `get_neighbors()`.\n",
    "\n",
    "Simulated Annealing requires selecting only random neighbor rather than generating all neighbors. Therefore, we can create a new class `TSPSASolution`, that implements the method that is required for simulated annealing to work: `get_random_neighbor()`.\n",
    "\n",
    "We could do this two ways:\n",
    "- Inherit from `TSPHillClimbingSolution` and use the `get_neighbors()` method inside the `get_random_neighbor()` method to first get all neighbors, and then radomly select one\n",
    "- Inherit from `TSPSolution` and implement only the `get_random_neighbor()`\n",
    "\n",
    "Let's go with the second one to keep the code as independent, eficient and modular as possible.\n",
    "\n",
    "![TSP Solutions](images/tsp-solutions.png)"
   ]
  },
  {
   "cell_type": "markdown",
   "metadata": {},
   "source": [
    "A neighbor of a TSP solution can be obtained by swapping two consecutive cities on the route (excluding the starting and end points)."
   ]
  },
  {
   "cell_type": "code",
   "execution_count": 4,
   "metadata": {},
   "outputs": [],
   "source": [
    "class TSPSASolution(TSPSolution):\n",
    "    def get_random_neighbor(self):\n",
    "        nr_cities = len(self.distance_matrix)\n",
    "\n",
    "        # Choose a city idx to switch with the next city \n",
    "        random_city_idx = random.randint(1, nr_cities-3)\n",
    "\n",
    "        new_route = deepcopy(self.repr)\n",
    "        new_route[random_city_idx] = self.repr[random_city_idx+1]\n",
    "        new_route[random_city_idx+1] = self.repr[random_city_idx]\n",
    "\n",
    "        return TSPSASolution(repr=new_route, distance_matrix=self.distance_matrix, starting_idx=self.starting_idx)"
   ]
  },
  {
   "cell_type": "markdown",
   "metadata": {},
   "source": [
    "Let's test it"
   ]
  },
  {
   "cell_type": "code",
   "execution_count": 5,
   "metadata": {},
   "outputs": [
    {
     "name": "stdout",
     "output_type": "stream",
     "text": [
      "Solution [0, 8, 7, 12, 1, 2, 5, 6, 10, 11, 4, 9, 3, 0]\n",
      "Random neighbor [0, 8, 7, 12, 1, 2, 5, 10, 6, 11, 4, 9, 3, 0]\n"
     ]
    }
   ],
   "source": [
    "solution = TSPSASolution()\n",
    "\n",
    "print('Solution', solution)\n",
    "print('Random neighbor', solution.get_random_neighbor())"
   ]
  },
  {
   "cell_type": "markdown",
   "metadata": {},
   "source": [
    "And now we can apply the simulated annealing algorithm by giving it an random initial solution"
   ]
  },
  {
   "cell_type": "code",
   "execution_count": null,
   "metadata": {},
   "outputs": [],
   "source": [
    "initial_solution = TSPSASolution()\n",
    "simulated_annealing(initial_solution, maximization=False, verbose=True)"
   ]
  },
  {
   "cell_type": "markdown",
   "metadata": {},
   "source": [
    "The implementation of `TSPSASolution` can be found in `library/problems/tsp.py`"
   ]
  },
  {
   "cell_type": "markdown",
   "metadata": {},
   "source": [
    "### Solving KS with Simulated Annealing\n",
    "\n",
    "To solve Knapsack with simulated annealing we need to define a `KSSASolution` class that inherits from `KSSolution` and implements the `get_random_neighbor()` method.\n",
    "\n",
    "In the previous notebook, we implemented `KSSolution`, which provides the `fitness()` and `random_initial_value()` methods. We also created `KSHillClimbingSolution`, which extends `KSSolution` and implements `get_neighbors()`.\n",
    "\n",
    "Since Simulated Annealing requires selecting a random neighbor rather than generating all neighbors, we can create a new class, `KSSASolution`, that implements the `get_random_neighbor()` method.\n",
    "\n",
    "Similarly to what we just did for TSP, let's implement the `KSSASolution` that inherits from `TSPSolution` and implements the `get_random_neighbor()`.\n",
    "\n",
    "A neighbor of a KS solution can be obtained by randomly flipping a bit, meaning, adding or removing an item from the knapsack."
   ]
  },
  {
   "cell_type": "code",
   "execution_count": null,
   "metadata": {},
   "outputs": [],
   "source": [
    "class KSSASolution(KSSolution):\n",
    "    def get_random_neighbor(self):\n",
    "        neighbor_repr = deepcopy(self.repr)\n",
    "        # Get random index\n",
    "        random_idx = random.randint(0, len(self.values)-1)\n",
    "        # Bit flip\n",
    "        if neighbor_repr[random_idx] == 1:\n",
    "            neighbor_repr[random_idx] = 0\n",
    "        else:\n",
    "            neighbor_repr[random_idx] = 1\n",
    "        \n",
    "        return KSSASolution(\n",
    "            repr=neighbor_repr,\n",
    "            values=self.values,\n",
    "            weights=self.weights,\n",
    "            capacity=self.capacity,\n",
    "        )"
   ]
  },
  {
   "cell_type": "markdown",
   "metadata": {},
   "source": [
    "Let's test it"
   ]
  },
  {
   "cell_type": "code",
   "execution_count": 8,
   "metadata": {},
   "outputs": [
    {
     "name": "stdout",
     "output_type": "stream",
     "text": [
      "Solution [1, 1, 1, 1, 1, 0, 1, 1, 0, 1, 0, 1, 0, 0, 1, 0, 0, 0, 0, 0, 1, 0, 1, 0, 0, 0, 0, 1, 0, 1, 1, 0, 1, 1, 1, 0, 1, 0, 0, 1, 1, 1, 0, 0, 0, 1, 0, 0, 0, 1]\n",
      "Random neighbor [1, 1, 1, 1, 1, 0, 1, 1, 0, 1, 0, 1, 0, 0, 1, 0, 0, 0, 0, 0, 1, 0, 1, 0, 0, 0, 0, 1, 0, 1, 1, 0, 0, 1, 1, 0, 1, 0, 0, 1, 1, 1, 0, 0, 0, 1, 0, 0, 0, 1]\n"
     ]
    }
   ],
   "source": [
    "solution = KSSASolution()\n",
    "\n",
    "print('Solution', solution)\n",
    "print('Random neighbor', solution.get_random_neighbor())"
   ]
  },
  {
   "cell_type": "markdown",
   "metadata": {},
   "source": [
    "And now we can apply the simulated annealing algorithm by giving it an random initial solution"
   ]
  },
  {
   "cell_type": "code",
   "execution_count": null,
   "metadata": {},
   "outputs": [],
   "source": [
    "initial_solution = KSSASolution()\n",
    "simulated_annealing(initial_solution, maximization=True, max_iter=10, verbose=True)"
   ]
  }
 ],
 "metadata": {
  "kernelspec": {
   "display_name": "venv",
   "language": "python",
   "name": "python3"
  },
  "language_info": {
   "codemirror_mode": {
    "name": "ipython",
    "version": 3
   },
   "file_extension": ".py",
   "mimetype": "text/x-python",
   "name": "python",
   "nbconvert_exporter": "python",
   "pygments_lexer": "ipython3",
   "version": "3.13.2"
  }
 },
 "nbformat": 4,
 "nbformat_minor": 2
}
