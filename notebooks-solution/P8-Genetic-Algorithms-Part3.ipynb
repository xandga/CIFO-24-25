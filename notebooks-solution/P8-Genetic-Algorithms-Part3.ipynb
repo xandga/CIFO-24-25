{
 "cells": [
  {
   "cell_type": "code",
   "execution_count": 2,
   "metadata": {},
   "outputs": [],
   "source": [
    "import sys\n",
    "sys.path.append('..')"
   ]
  },
  {
   "cell_type": "code",
   "execution_count": 129,
   "metadata": {},
   "outputs": [],
   "source": [
    "from copy import deepcopy\n",
    "import random\n",
    "from library.problems.tsp import TSPSolution\n",
    "from library.problems.data.tsp_data import distance_matrix\n",
    "from library.algorithms.genetic_algorithms.algorithm import genetic_algorithm\n",
    "from library.algorithms.genetic_algorithms.mutation import swap_mutation\n",
    "from library.algorithms.genetic_algorithms.selection import fitness_proportionate_selection"
   ]
  },
  {
   "cell_type": "markdown",
   "metadata": {},
   "source": [
    "## Specialized Genetic Operators"
   ]
  },
  {
   "cell_type": "markdown",
   "metadata": {},
   "source": [
    "In the previous notebook, we explored some traditional genetic operators: **standard crossover, binary mutation, and swap mutation**.\n",
    "\n",
    "However, these traditional operators generate invalid solutions when applied to combinatorial problems such as the Traveling Salesman Problem (TSP), job scheduling, or vehicle routing, where solutions are represented as **permutations**.\n",
    "\n",
    "In this notebook, we’ll explore **specialized genetic operators**, specifically designed to handle permutations without producing invalid solutions. We’ll explore one crossover and one mutation methods that respects permutation constraints."
   ]
  },
  {
   "cell_type": "markdown",
   "metadata": {},
   "source": [
    "### Why Standard Crossover/Mutation Fail for Permutation Problems\n",
    "\n",
    "In permutation-based problems (e.g., [1, 2, 3, 4, 5]), each gene must appear exactly once.\n",
    "Standard genetic operators like one-point crossover or value-flip mutation can break this rule, resulting in invalid offspring with duplicates or missing values.\n",
    "\n",
    "\n",
    "#### Standard Mutation - Value Flip\n",
    "\n",
    "This mutation is inspired by the standard binary mutation: each gene is randomly replaced with another value with some probability.\n",
    "\n",
    "Individual [1, 2, 3, 4, 5]\n",
    "\n",
    "Mutated individual (hypothetical): [1, 2, 4, 1, 5] ❌ (Duplicate '1')\n",
    "\n",
    "#### Standard Crossover\n",
    "\n",
    "Parent 1: [1, 2 | 3, 4, 5]\n",
    "\n",
    "Parent 2: [3, 4 | 5, 1, 2]\n",
    "\n",
    "\n",
    "Offspring 1 (invalid): [1, 2, 5, 1, 2] ❌ (Duplicates '1' and '2')\n",
    "\n",
    "Offspring 2 (invalid): [3, 4, 3, 4, 5] ❌ (Duplicates '3' and '4')"
   ]
  },
  {
   "cell_type": "markdown",
   "metadata": {},
   "source": [
    "### Cycle Crossover\n",
    "\n",
    "Cycle Crossover keeps items in their original positions across parents by identifying cycles of indices where elements should remain fixed.\n",
    "\n",
    "**Pseudo-code:**\n",
    "\n",
    "1. Choose random index in Parent 1 and copy the element to first child.\n",
    "3. Copy element in same index in Parent 2 to second child.\n",
    "4. Find this element in Parent 1 and copy it to first child, and repeat the process.\n",
    "5. Once the cycle completes (we end up back on the initial index), the remaining positions are filled from the other parent.\n",
    "\n",
    "![Cycle Crossover](images/cycle-xo.png)\n"
   ]
  },
  {
   "cell_type": "code",
   "execution_count": null,
   "metadata": {},
   "outputs": [],
   "source": [
    "def cycle_crossover(parent1_repr: str | list, parent2_repr: str | list):\n",
    "    \"\"\"\n",
    "    Performs Cycle Crossover (CX) between two parents\n",
    "\n",
    "    Cycle Crossover preserves the position of elements by identifying a cycle\n",
    "    of indices where the values from each parent will be inherited by each offspring.\n",
    "    The remaining indices are filled with values from the other parent, maintaining valid permutations.\n",
    "\n",
    "    Args:\n",
    "        parent1_repr (str or list): The first parent representation.\n",
    "        parent2_repr (str or list): The second parent representation.\n",
    "            Both parents must have the same length and type.\n",
    "\n",
    "    Returns:\n",
    "        tuple: Two offspring permutations resulting from the crossover.\n",
    "    \"\"\"\n",
    "    # Randomly choose a starting index for the cycle\n",
    "    initial_random_idx = random.randint(0, len(parent1_repr)-1)\n",
    "\n",
    "    # Initialize the cycle with the starting index\n",
    "    cycle_idxs = [initial_random_idx]\n",
    "    current_cycle_idx = initial_random_idx\n",
    "\n",
    "    # Traverse the cycle by following the mapping from parent2 to parent1\n",
    "    while True:\n",
    "        value_parent2 = parent2_repr[current_cycle_idx]\n",
    "        # Find where this value is in parent1 to get the next index in the cycle\n",
    "        next_cycle_idx = parent1_repr.index(value_parent2)\n",
    "\n",
    "        # Closed the cycle -> Break\n",
    "        if next_cycle_idx == initial_random_idx:\n",
    "            break\n",
    "\n",
    "        cycle_idxs.append(next_cycle_idx)\n",
    "        current_cycle_idx = next_cycle_idx\n",
    "    \n",
    "    offspring1_repr = []\n",
    "    offspring2_repr = []\n",
    "    for idx in range(len(parent1_repr)):\n",
    "        if idx in cycle_idxs:\n",
    "            # Keep values from parent1 in offspring1 in the cycle indexes\n",
    "            offspring1_repr.append(parent1_repr[idx])\n",
    "            # Keep values from parent2 in offspring2 in the cycle indexes\n",
    "            offspring2_repr.append(parent2_repr[idx])\n",
    "        else:\n",
    "            # Swap elements from parents in non-cycle indexes\n",
    "            offspring1_repr.append(parent2_repr[idx])\n",
    "            offspring2_repr.append(parent1_repr[idx])\n",
    "\n",
    "    # To keep the same type as the parents representation\n",
    "    if isinstance(parent1_repr, str) and isinstance(parent2_repr, str):\n",
    "        offspring1_repr = \"\".join(offspring1_repr)\n",
    "        offspring2_repr = \"\".join(offspring2_repr)\n",
    "\n",
    "    return offspring1_repr, offspring2_repr"
   ]
  },
  {
   "cell_type": "markdown",
   "metadata": {},
   "source": [
    "Let's test it."
   ]
  },
  {
   "cell_type": "code",
   "execution_count": 61,
   "metadata": {},
   "outputs": [
    {
     "name": "stdout",
     "output_type": "stream",
     "text": [
      "Parent 1: [1, 2, 3, 4, 5, 6, 7]\n",
      "Parent 2: [3, 4, 2, 1, 7, 5, 6]\n",
      "Offspring 1: [1, 2, 3, 4, 7, 5, 6]\n",
      "Offspring 2: [3, 4, 2, 1, 5, 6, 7]\n"
     ]
    }
   ],
   "source": [
    "parent1 = [1, 2, 3, 4, 5, 6, 7]\n",
    "parent2 = [3, 4, 2, 1, 7, 5, 6]\n",
    "\n",
    "print(\"Parent 1:\", parent1)\n",
    "print(\"Parent 2:\", parent2)\n",
    "\n",
    "offspring1_repr, offspring2_repr = cycle_crossover(parent1_repr=parent1, parent2_repr=parent2)\n",
    "\n",
    "print(\"Offspring 1:\", offspring1_repr)\n",
    "print(\"Offspring 2:\", offspring2_repr)"
   ]
  },
  {
   "cell_type": "markdown",
   "metadata": {},
   "source": [
    "### Inversion Mutation\n",
    "\n",
    "Inversion mutation works by selecting two random indices and reversing the subsequence between them, with a certain probability.\n",
    "\n",
    "![Inversion Mutation](images/inversion-mutation.png)"
   ]
  },
  {
   "cell_type": "code",
   "execution_count": null,
   "metadata": {},
   "outputs": [],
   "source": [
    "def inversion_mutation(representation: str | list, mut_prob):\n",
    "    \"\"\"\n",
    "    Applies inversion mutation to a representation.\n",
    "\n",
    "    Inversion mutation selects two random indices and reverses the \n",
    "    subsequence between them, with a certain probability.\n",
    "\n",
    "    Parameters:\n",
    "    ----------\n",
    "    representation : str or list\n",
    "        The individual to mutate. Should represent a valid permutation.\n",
    "    mut_prob : float\n",
    "        Probability of applying the mutation (between 0 and 1).\n",
    "\n",
    "    Returns:\n",
    "    -------\n",
    "    str or list\n",
    "        A new individual with the mutated representation (if mutation occurs),\n",
    "        or a copy of the original.\n",
    "    \"\"\"\n",
    "    if random.random() <= mut_prob:\n",
    "        # Select two distinct indices\n",
    "        first_idx = random.randint(0, len(representation)-1)\n",
    "        second_idx = first_idx\n",
    "        # We want to get two indexes that are at least 2 genes away\n",
    "        while abs(second_idx-first_idx) <= 1:\n",
    "            second_idx = random.randint(0, len(representation)-1)\n",
    "    \n",
    "        # Ensure first_idx < second_idx\n",
    "        if first_idx > second_idx:\n",
    "            first_idx, second_idx = second_idx, first_idx\n",
    "\n",
    "        # Reverse between first and second index\n",
    "        reversed_subsequence = list(reversed(representation[first_idx:second_idx]))\n",
    "\n",
    "        # Convert back to string if original representation is a string\n",
    "        if isinstance(representation, str):\n",
    "            reversed_subsequence = \"\".join(reversed_subsequence)\n",
    "\n",
    "        # Keep everything from second index (excluding it) until the end\n",
    "        new_representation = representation[:first_idx] + reversed_subsequence + representation[second_idx:]\n",
    "        return new_representation\n",
    "    else:\n",
    "        return deepcopy(representation)"
   ]
  },
  {
   "cell_type": "markdown",
   "metadata": {},
   "source": [
    "Let's test it."
   ]
  },
  {
   "cell_type": "code",
   "execution_count": 125,
   "metadata": {},
   "outputs": [
    {
     "data": {
      "text/plain": [
       "[1, 2, 7, 6, 5, 4, 3]"
      ]
     },
     "execution_count": 125,
     "metadata": {},
     "output_type": "execute_result"
    }
   ],
   "source": [
    "representation = [1, 2, 3, 4, 5, 6, 7]\n",
    "\n",
    "inversion_mutation(representation, mut_prob=1)"
   ]
  },
  {
   "cell_type": "markdown",
   "metadata": {},
   "source": [
    "## Solving TSP with Genetic Algorithms\n",
    "\n",
    "Just like we did in the previous notebook for the Knapsack Problem, we’ll now solve TSP using genetic algorithms.\n",
    "\n",
    "To structure our solution, we’ll define a `TSPGASolution` class where we’ll define in the crossover and mutation methods needed to run the `genetic_algorithm` function.\n",
    "\n",
    "To keep the class flexible and reusable, we’ll pass the `mutation_function` and `crossover_function` as callable arguments when creating an instance of `TSPGASolution`.\n",
    "\n",
    "### A small but important side note\n",
    "\n",
    "TSP solutions are represented as permutations of city indices, where the path must start and end at the same city (i.e., the starting index is fixed at both ends).\n",
    "\n",
    "When applying permutation-based operators like cycle crossover or inversion mutation, we need to preserve this constraint. That means we should only apply genetic operators to the middle portion of the route: excluding the first and last cities, which must remain the same.\n",
    "\n",
    "So in practice, our crossover and mutation functions will only operate on the inner part of the individual, keeping the boundaries intact."
   ]
  },
  {
   "cell_type": "code",
   "execution_count": null,
   "metadata": {},
   "outputs": [],
   "source": [
    "class TSPGASolution(TSPSolution):\n",
    "    def __init__(\n",
    "        self,\n",
    "        distance_matrix,\n",
    "        starting_idx,\n",
    "        mutation_function, # Callable\n",
    "        crossover_function, # Callable\n",
    "        repr = None,\n",
    "    ):\n",
    "        self.mutation_function = mutation_function\n",
    "        self.crossover_function = crossover_function\n",
    "\n",
    "        super().__init__(\n",
    "            distance_matrix=distance_matrix,\n",
    "            starting_idx=starting_idx,\n",
    "            repr=repr,\n",
    "        )\n",
    "    \n",
    "    def mutation(self, mut_prob):\n",
    "        \"\"\"\n",
    "        Applies the provided mutation operator to the middle portion \n",
    "        of the route (excluding start and end cities).\n",
    "        \"\"\"\n",
    "        # Apply mutation to the middle route segment\n",
    "        middle_segment = self.repr[1:-1]  # Exclude starting/ending city\n",
    "        mutated_segment = self.mutation_operator(middle_segment, mut_prob)\n",
    "        new_repr = [self.starting_idx] + mutated_segment + [self.starting_idx]\n",
    "        \n",
    "        return TSPGASolution(\n",
    "            distance_matrix=self.distance_matrix,\n",
    "            starting_idx=self.starting_idx,\n",
    "            mutation_function=self.mutation_function,\n",
    "            crossover_function=self.crossover_function,\n",
    "            repr=new_repr\n",
    "        )\n",
    "\n",
    "    def crossover(self, other_solution):\n",
    "        \"\"\"\n",
    "        Applies the provided crossover operator to the middle portions\n",
    "        of two parent routes (excluding start/end cities), and returns\n",
    "        two new offspring solutions.\n",
    "        \"\"\"\n",
    "        # Apply crossover to the middle route segment of the parents\n",
    "        parent1_middle = self.repr[1:-1]\n",
    "        parent2_middle = other_solution.repr[1:-1]\n",
    "\n",
    "        offspring1_middle, offspring2_middle = self.crossover_function(parent1_middle, parent2_middle)\n",
    "\n",
    "        offspring1_repr = [self.starting_idx] + offspring1_middle + [self.starting_idx]\n",
    "        offspring2_repr = [self.starting_idx] + offspring2_middle + [self.starting_idx]\n",
    "\n",
    "        return (\n",
    "            TSPGASolution(\n",
    "                distance_matrix=self.distance_matrix,\n",
    "                starting_idx=self.starting_idx,\n",
    "                mutation_function=self.mutation_function,\n",
    "                crossover_function=self.crossover_function,\n",
    "                repr=offspring1_repr\n",
    "            ),\n",
    "            TSPGASolution(\n",
    "                distance_matrix=self.distance_matrix,\n",
    "                starting_idx=self.starting_idx,\n",
    "                mutation_function=self.mutation_function,\n",
    "                crossover_function=self.crossover_function,\n",
    "                repr=offspring2_repr\n",
    "            )\n",
    "        )"
   ]
  },
  {
   "cell_type": "markdown",
   "metadata": {},
   "source": [
    "Let's apply the genetic algorithm to TSP using cycle crossover and inversion mutation. Here the probability of mutation should be relatively small because inversion mutation may be very destructive."
   ]
  },
  {
   "cell_type": "code",
   "execution_count": null,
   "metadata": {},
   "outputs": [],
   "source": [
    "POP_SIZE = 50\n",
    "initial_population = [\n",
    "    TSPGASolution(\n",
    "        distance_matrix=distance_matrix,\n",
    "        starting_idx=0,\n",
    "        crossover_function=cycle_crossover,\n",
    "        mutation_function=inversion_mutation\n",
    "    )\n",
    "    for _ in range(POP_SIZE)\n",
    "]\n",
    "\n",
    "best_solution = genetic_algorithm(\n",
    "    initial_population=initial_population,\n",
    "    max_gen=100,\n",
    "    selection_algorithm=fitness_proportionate_selection,\n",
    "    maximization=False,\n",
    "    xo_prob=0.8,\n",
    "    mut_prob=0.2,\n",
    "    elitism=True,\n",
    "    verbose=True\n",
    ")\n",
    "\n",
    "print(\"Best solution fitness\", best_solution.fitness())"
   ]
  },
  {
   "cell_type": "markdown",
   "metadata": {},
   "source": [
    "And now let's use cycle crossover again, but this time we use swap mutation.\n",
    "\n",
    "Now we can set a higher probability of miutation because swap mutation is less destructive than inversion mutation."
   ]
  },
  {
   "cell_type": "code",
   "execution_count": null,
   "metadata": {},
   "outputs": [],
   "source": [
    "initial_population = [\n",
    "    TSPGASolution(\n",
    "        distance_matrix=distance_matrix,\n",
    "        starting_idx=0,\n",
    "        crossover_function=cycle_crossover,\n",
    "        mutation_function=swap_mutation\n",
    "    )\n",
    "    for _ in range(POP_SIZE)\n",
    "]\n",
    "\n",
    "best_solution = genetic_algorithm(\n",
    "    initial_population=initial_population,\n",
    "    max_gen=100,\n",
    "    selection_algorithm=fitness_proportionate_selection,\n",
    "    maximization=False,\n",
    "    xo_prob=0.8,\n",
    "    mut_prob=0.2,\n",
    "    elitism=True,\n",
    "    verbose=True\n",
    ")\n",
    "\n",
    "print(\"Best solution fitness\", best_solution.fitness())"
   ]
  }
 ],
 "metadata": {
  "kernelspec": {
   "display_name": "venv",
   "language": "python",
   "name": "python3"
  },
  "language_info": {
   "codemirror_mode": {
    "name": "ipython",
    "version": 3
   },
   "file_extension": ".py",
   "mimetype": "text/x-python",
   "name": "python",
   "nbconvert_exporter": "python",
   "pygments_lexer": "ipython3",
   "version": "3.13.3"
  }
 },
 "nbformat": 4,
 "nbformat_minor": 2
}
