{
 "cells": [
  {
   "cell_type": "code",
   "execution_count": 2,
   "metadata": {},
   "outputs": [],
   "source": [
    "import sys\n",
    "sys.path.append('..')"
   ]
  },
  {
   "cell_type": "code",
   "execution_count": 3,
   "metadata": {},
   "outputs": [],
   "source": [
    "import random\n",
    "from copy import deepcopy\n",
    "from library.solution import Solution"
   ]
  },
  {
   "cell_type": "markdown",
   "metadata": {},
   "source": [
    "## Genetic Algorithms\n",
    "\n",
    "Genetic Algorithms (GAs) are a class of optimization algorithms inspired by **natural selection** and **evolutionary principles**. They are used to find near-optimal solutions to complex problems, especially when traditional methods struggle due to high-dimensional or non-differentiable search spaces.\n",
    "\n",
    "GAs operate by evolving a population of candidate solutions over multiple iterations (called generations), using biologically inspired operations:\n",
    "- **Selection**: Choosing the best individuals based on a fitness function.\n",
    "- **Crossover (Recombination)**: Combining two parent solutions to create new offspring.\n",
    "- **Mutation**: Introducing small random changes to maintain diversity."
   ]
  },
  {
   "cell_type": "markdown",
   "metadata": {},
   "source": [
    "### Pseudo-code\n",
    "\n",
    "1. Initialize a population P of **N** individuals/solutions (usually at random)\n",
    "2. Repeat until termination condition (**max number of generations**):\n",
    "   1. Create an empty population P'\n",
    "   2. If using elitism, insert the best individual from P into P'\n",
    "   3. Repeat until P' contains N individuals:\n",
    "      1. Choose 2 individuals from population P using a **selection algorithm**\n",
    "      2. Choose an operator between crossover and replication with probabilities **$P_c$** and $1-P_c$, respectively\n",
    "      3. Apply the operator to the individuals to generate the offspring\n",
    "      4. Apply mutation to the offspring. The mutation operator has an hyperparameter **$P_m$** (we'll see what this means for different mutation operators later)\n",
    "      5. Insert the mutated individuals into P'\n",
    "   4. Replace P with P'\n",
    "3. Return the best individual in P\n"
   ]
  },
  {
   "cell_type": "markdown",
   "metadata": {},
   "source": [
    "### Algorithm Implementation\n",
    "\n",
    "Let's implement the genetic algorithm function. These are the arguments this function will receive:\n",
    "- `initial_population`: List of individuals (randomly generated solutions)\n",
    "- `max_gen`: Maximum number of generations\n",
    "- `selection_algorithm`: A function that receives a population, selects one individual based on fitness and returns it\n",
    "- `maximization`: Boolean that indicates if we're solving a maximization or minimization problem\n",
    "- `xo_prob`: Probability of crossover (usually big)\n",
    "- `mut_prob`: Probability of mutation (usually small)\n",
    "- `elistism`: A boolean that indicates if elitism should be used or not"
   ]
  },
  {
   "cell_type": "code",
   "execution_count": null,
   "metadata": {},
   "outputs": [],
   "source": [
    "# TODO: Implement Genetic Algorithm function"
   ]
  },
  {
   "cell_type": "markdown",
   "metadata": {},
   "source": [
    "**NOTE:** There are many variations of genetic algorithms. The implementation used in our practical classes and the library follows some choices. For example, before inserting the second mutated individual into P', we check whether it would exceed the population size. This can happen with even-sized populations since we always insert two individuals at a time. An alternative approach would be to insert the individual regardless and, if the population exceeds the limit, remove the worst-performing individual at the end.\n",
    "\n",
    "There are also other assumptions for our implementation of the algorithm to run.\n",
    "- individuals have `fitness`, `crossover` and `mutation` methods\n",
    "- `crossover` always returns two offspring\n",
    "- both `crossover` and `mutation` methods return new individuals instead of modifying individuals in-place"
   ]
  },
  {
   "cell_type": "markdown",
   "metadata": {},
   "source": [
    "### Selection algorithms\n",
    "\n",
    "Selection is the first main step of a genetic algorithm. Selection algorithms have the following properties:\n",
    "- are probabilistic\n",
    "- for any pair of individuals A and B, if A if better than B, then the probability of selecting A must be bigger than the probability of selecting B\n",
    "- all individuals must have the chance of being selected, even the worst in the population\n",
    "- when an individual is selected, it remains in population P and a copy is inserted in P'\n",
    "\n",
    "In class we'll implement **Fitness Proportionate Selection** (or roulette wheel), but there are other techniques like Ranking or Tournament selection.\n",
    "\n",
    "#### Fitness Proportionate Selection\n",
    "\n",
    "Probabilistic selection method used in GAs to choose individuals for reproduction. It mimics a roulette wheel, where individuals with higher fitness have a greater chance of being selected, but lower-fitness individuals still have some probability of selection.\n",
    "\n",
    "Let $N$ be the number of individuals in population $P$ and $F = {f_1, f_2, ..., f_N}$ be the set of fitness values of the indiiduals in the population. For an individual $i$ in the population, the probability of selecting $i$ is:\n",
    "\n",
    "$$P(selecting\\ i) = \\frac{f_i}{\\sum_{j=1}^{N} f_j}$$\n",
    "\n",
    "![Fitness Proportionate Selection Implementation](images/fps.png)\n",
    "\n",
    "Our implementation fo this selection algorithm will be a function that receives two arguments:\n",
    "- `population`: A list of individuals / solutions. These must have a `fitness()` method.\n",
    "- `maximization`: Boolean that indicates if we're solving a maximization or minimization problem"
   ]
  },
  {
   "cell_type": "code",
   "execution_count": null,
   "metadata": {},
   "outputs": [],
   "source": [
    "# TODO: Implement Fitness Proportionate Selection function"
   ]
  }
 ],
 "metadata": {
  "kernelspec": {
   "display_name": "venv",
   "language": "python",
   "name": "python3"
  },
  "language_info": {
   "codemirror_mode": {
    "name": "ipython",
    "version": 3
   },
   "file_extension": ".py",
   "mimetype": "text/x-python",
   "name": "python",
   "nbconvert_exporter": "python",
   "pygments_lexer": "ipython3",
   "version": "3.13.2"
  }
 },
 "nbformat": 4,
 "nbformat_minor": 2
}
