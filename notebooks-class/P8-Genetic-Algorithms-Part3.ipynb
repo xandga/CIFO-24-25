{
 "cells": [
  {
   "cell_type": "code",
   "execution_count": null,
   "metadata": {},
   "outputs": [],
   "source": [
    "import sys\n",
    "sys.path.append('..')"
   ]
  },
  {
   "cell_type": "code",
   "execution_count": null,
   "metadata": {},
   "outputs": [],
   "source": [
    "from copy import deepcopy\n",
    "import random\n",
    "from library.problems.tsp import TSPSolution\n",
    "from library.problems.data.tsp_data import distance_matrix\n",
    "from library.algorithms.genetic_algorithms.algorithm import genetic_algorithm\n",
    "from library.algorithms.genetic_algorithms.mutation import swap_mutation\n",
    "from library.algorithms.genetic_algorithms.selection import fitness_proportionate_selection"
   ]
  },
  {
   "cell_type": "markdown",
   "metadata": {},
   "source": [
    "## Specialized Genetic Operators"
   ]
  },
  {
   "cell_type": "markdown",
   "metadata": {},
   "source": [
    "In the previous notebook, we explored some traditional genetic operators: **standard crossover, binary mutation, and swap mutation**.\n",
    "\n",
    "However, these traditional operators generate invalid solutions when applied to combinatorial problems such as the Traveling Salesman Problem (TSP), job scheduling, or vehicle routing, where solutions are represented as **permutations**.\n",
    "\n",
    "In this notebook, we’ll explore **specialized genetic operators**, specifically designed to handle permutations without producing invalid solutions. We’ll explore one crossover and one mutation methods that respects permutation constraints."
   ]
  },
  {
   "cell_type": "markdown",
   "metadata": {},
   "source": [
    "### Why Standard Crossover/Mutation Fail for Permutation Problems\n",
    "\n",
    "In permutation-based problems (e.g., [1, 2, 3, 4, 5]), each gene must appear exactly once.\n",
    "Standard genetic operators like one-point crossover or value-flip mutation can break this rule, resulting in invalid offspring with duplicates or missing values.\n",
    "\n",
    "\n",
    "#### Standard Mutation - Value Flip\n",
    "\n",
    "This mutation is inspired by the standard binary mutation: each gene is randomly replaced with another value with some probability.\n",
    "\n",
    "Individual [1, 2, 3, 4, 5]\n",
    "\n",
    "Mutated individual (hypothetical): [1, 2, 4, 1, 5] ❌ (Duplicate '1')\n",
    "\n",
    "#### Standard Crossover\n",
    "\n",
    "Parent 1: [1, 2 | 3, 4, 5]\n",
    "\n",
    "Parent 2: [3, 4 | 5, 1, 2]\n",
    "\n",
    "\n",
    "Offspring 1 (invalid): [1, 2, 5, 1, 2] ❌ (Duplicates '1' and '2')\n",
    "\n",
    "Offspring 2 (invalid): [3, 4, 3, 4, 5] ❌ (Duplicates '3' and '4')"
   ]
  },
  {
   "cell_type": "markdown",
   "metadata": {},
   "source": [
    "### Cycle Crossover\n",
    "\n",
    "Cycle Crossover keeps items in their original positions across parents by identifying cycles of indices where elements should remain fixed.\n",
    "\n",
    "**Pseudo-code:**\n",
    "\n",
    "1. Choose random index in Parent 1 and copy the element to first child.\n",
    "3. Copy element in same index in Parent 2 to second child.\n",
    "4. Find this element in Parent 1 and copy it to first child, and repeat the process.\n",
    "5. Once the cycle completes (we end up back on the initial index), the remaining positions are filled from the other parent.\n",
    "\n",
    "![Cycle Crossover](images/cycle-xo.png)\n"
   ]
  },
  {
   "cell_type": "code",
   "execution_count": null,
   "metadata": {},
   "outputs": [],
   "source": [
    "def cycle_crossover(parent1_repr: str | list, parent2_repr: str | list):\n",
    "    # TODO\n",
    "    pass"
   ]
  },
  {
   "cell_type": "markdown",
   "metadata": {},
   "source": [
    "Let's test it."
   ]
  },
  {
   "cell_type": "code",
   "execution_count": null,
   "metadata": {},
   "outputs": [],
   "source": [
    "parent1 = [1, 2, 3, 4, 5, 6, 7]\n",
    "parent2 = [3, 4, 2, 1, 7, 5, 6]\n",
    "\n",
    "print(\"Parent 1:\", parent1)\n",
    "print(\"Parent 2:\", parent2)\n",
    "\n",
    "offspring1_repr, offspring2_repr = cycle_crossover(parent1_repr=parent1, parent2_repr=parent2)\n",
    "\n",
    "print(\"Offspring 1:\", offspring1_repr)\n",
    "print(\"Offspring 2:\", offspring2_repr)"
   ]
  },
  {
   "cell_type": "markdown",
   "metadata": {},
   "source": [
    "### Inversion Mutation\n",
    "\n",
    "Inversion mutation works by selecting two random indices and reversing the subsequence between them, with a certain probability.\n",
    "\n",
    "![Inversion Mutation](images/inversion-mutation.png)"
   ]
  },
  {
   "cell_type": "code",
   "execution_count": null,
   "metadata": {},
   "outputs": [],
   "source": [
    "def inversion_mutation(representation: str | list, mut_prob):\n",
    "    # TODO\n",
    "    pass"
   ]
  },
  {
   "cell_type": "markdown",
   "metadata": {},
   "source": [
    "Let's test it."
   ]
  },
  {
   "cell_type": "code",
   "execution_count": null,
   "metadata": {},
   "outputs": [],
   "source": [
    "representation = [1, 2, 3, 4, 5, 6, 7]\n",
    "\n",
    "inversion_mutation(representation, mut_prob=1)"
   ]
  },
  {
   "cell_type": "markdown",
   "metadata": {},
   "source": [
    "## Solving TSP with Genetic Algorithms\n",
    "\n",
    "Just like we did in the previous notebook for the Knapsack Problem, we’ll now solve TSP using genetic algorithms.\n",
    "\n",
    "To structure our solution, we’ll define a `TSPGASolution` class where we’ll define in the crossover and mutation methods needed to run the `genetic_algorithm` function.\n",
    "\n",
    "To keep the class flexible and reusable, we’ll pass the `mutation_function` and `crossover_function` as callable arguments when creating an instance of `TSPGASolution`.\n",
    "\n",
    "### A small but important side note\n",
    "\n",
    "TSP solutions are represented as permutations of city indices, where the path must start and end at the same city (i.e., the starting index is fixed at both ends).\n",
    "\n",
    "When applying permutation-based operators like cycle crossover or inversion mutation, we need to preserve this constraint. That means we should only apply genetic operators to the middle portion of the route: excluding the first and last cities, which must remain the same.\n",
    "\n",
    "So in practice, our crossover and mutation functions will only operate on the inner part of the individual, keeping the boundaries intact."
   ]
  },
  {
   "cell_type": "code",
   "execution_count": null,
   "metadata": {},
   "outputs": [],
   "source": [
    "class TSPGASolution(TSPSolution):\n",
    "    # TODO\n",
    "    pass"
   ]
  },
  {
   "cell_type": "markdown",
   "metadata": {},
   "source": [
    "Let's apply the genetic algorithm to TSP using cycle crossover and inversion mutation. Here the probability of mutation should be relatively small because inversion mutation may be very destructive."
   ]
  },
  {
   "cell_type": "code",
   "execution_count": null,
   "metadata": {},
   "outputs": [],
   "source": [
    "# TODO: Apply GA to TSP with cycle crossover and inversion mutation"
   ]
  },
  {
   "cell_type": "markdown",
   "metadata": {},
   "source": [
    "And now let's use cycle crossover again, but this time we use swap mutation.\n",
    "Now we can set a higher probability of miutation because swap mutation is less destructive than inversion mutation."
   ]
  },
  {
   "cell_type": "code",
   "execution_count": null,
   "metadata": {},
   "outputs": [],
   "source": [
    "# TODO: Apply GA to TSP with cycle crossover and swap mutation"
   ]
  }
 ],
 "metadata": {
  "kernelspec": {
   "display_name": "venv",
   "language": "python",
   "name": "python3"
  },
  "language_info": {
   "codemirror_mode": {
    "name": "ipython",
    "version": 3
   },
   "file_extension": ".py",
   "mimetype": "text/x-python",
   "name": "python",
   "nbconvert_exporter": "python",
   "pygments_lexer": "ipython3",
   "version": "3.13.3"
  }
 },
 "nbformat": 4,
 "nbformat_minor": 2
}
