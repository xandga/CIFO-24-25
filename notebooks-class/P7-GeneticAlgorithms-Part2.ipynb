{
 "cells": [
  {
   "cell_type": "code",
   "execution_count": null,
   "metadata": {},
   "outputs": [],
   "source": [
    "import sys\n",
    "sys.path.append('..')"
   ]
  },
  {
   "cell_type": "code",
   "execution_count": null,
   "metadata": {},
   "outputs": [],
   "source": [
    "from copy import deepcopy\n",
    "import random\n",
    "from library.problems.ks import KSSolution\n",
    "from library.problems.data.ks_data import weights, values, capacity\n",
    "from library.algorithms.genetic_algorithms.algorithm import genetic_algorithm\n",
    "from library.algorithms.genetic_algorithms.selection import fitness_proportionate_selection"
   ]
  },
  {
   "cell_type": "markdown",
   "metadata": {},
   "source": [
    "## Genetic operators"
   ]
  },
  {
   "cell_type": "markdown",
   "metadata": {},
   "source": [
    "### Binary Standard Mutation\n",
    "\n",
    "This mutation operator is used for binary string or list representations, such as '10001' or [1, 0, 0, 0, 1], found in problems like the Knapsack or IntBin problems.\n",
    "\n",
    "Standard binary mutation works by iterating over each position (or gene) in the binary string. For each gene, there is a fixed mutation probability that determines whether the bit should be flipped (a 0 becomes 1 and vice versa)\n",
    "\n",
    "![Binary Standard Mutation](images/binary-std-mutation.png)\n",
    "\n",
    "Let's implement a function for standard binary mutation. It takes a binary representation and a mutation probability as inputs and returns a new representation.\n"
   ]
  },
  {
   "cell_type": "code",
   "execution_count": null,
   "metadata": {},
   "outputs": [],
   "source": [
    "def binary_standard_mutation(representation: str | list, mut_prob):\n",
    "    # TODO\n",
    "    pass"
   ]
  },
  {
   "cell_type": "markdown",
   "metadata": {},
   "source": [
    "Let's test on the Knapsack problem:"
   ]
  },
  {
   "cell_type": "code",
   "execution_count": null,
   "metadata": {},
   "outputs": [],
   "source": [
    "solution = KSSolution(values=values, weights=weights, capacity=capacity)\n",
    "\n",
    "print(\"Solution:\", solution)\n",
    "\n",
    "new_solution_repr = binary_standard_mutation(solution.repr, mut_prob=0.2)\n",
    "\n",
    "print(\"New solution:\", new_solution_repr)"
   ]
  },
  {
   "cell_type": "markdown",
   "metadata": {},
   "source": [
    "### Swap mutation\n",
    "\n",
    "Swap mutation is a general-purpose operator suitable for any type of string or list-based representation.\n",
    "\n",
    "It works by randomly selecting two positions (genes) in the solution and swapping their values. This swap is applied with a certain mutation probability.\n",
    "\n",
    "![Swap Mutation](images/swap-mutation.png)\n",
    "\n",
    "Let's implement the swap mutation function. It takes a representation and a mutation probability as inputs and returns a new solution where two genes may have been swapped."
   ]
  },
  {
   "cell_type": "code",
   "execution_count": null,
   "metadata": {},
   "outputs": [],
   "source": [
    "def swap_mutation(representation: str | list, mut_prob):\n",
    "    # TODO\n",
    "    pass"
   ]
  },
  {
   "cell_type": "markdown",
   "metadata": {},
   "source": [
    "Now let's test on the Knapsack problem."
   ]
  },
  {
   "cell_type": "code",
   "execution_count": null,
   "metadata": {},
   "outputs": [],
   "source": [
    "solution = KSSolution(values=values, weights=weights, capacity=capacity)\n",
    "\n",
    "print(\"Solution:\", solution)\n",
    "\n",
    "new_solution_repr = swap_mutation(solution.repr, mut_prob=0.8)\n",
    "\n",
    "print(\"New solution:\", new_solution_repr)"
   ]
  },
  {
   "cell_type": "markdown",
   "metadata": {},
   "source": [
    "### Standard Crossover\n",
    "\n",
    "Standard crossover takes two parent solutions, randomly selects a crossover point (an index between two consecutive genes) and exchanges the tail segments of the parents at that point. This process produces two new offspring that are combinations of their parents’ genetic material.\n",
    "\n",
    "![Standard Crossover](images/std-crossover.png)\n",
    "\n",
    "Let's implement the standard crossover function. It takes two parent representations as input and returns two offspring representations created by recombining segments from the parents at a randomly chosen crossover point."
   ]
  },
  {
   "cell_type": "code",
   "execution_count": null,
   "metadata": {},
   "outputs": [],
   "source": [
    "def standard_crossover(parent1_repr, parent2_repr):\n",
    "   # TODO\n",
    "   pass"
   ]
  },
  {
   "cell_type": "markdown",
   "metadata": {},
   "source": [
    "Now let's test on the Knapsack problem."
   ]
  },
  {
   "cell_type": "code",
   "execution_count": null,
   "metadata": {},
   "outputs": [],
   "source": [
    "parent1 = KSSolution(values=values, weights=weights, capacity=capacity)\n",
    "parent2 = KSSolution(values=values, weights=weights, capacity=capacity)\n",
    "\n",
    "print(\"Parent 1:\", parent1)\n",
    "print(\"Parent 2:\", parent2)\n",
    "\n",
    "offspring1_repr, offspring2_repr = standard_crossover(parent1.repr, parent2.repr)\n",
    "\n",
    "print(\"Offspring 1:\", offspring1_repr)\n",
    "print(\"Offspring 2:\", offspring2_repr)"
   ]
  },
  {
   "cell_type": "markdown",
   "metadata": {},
   "source": [
    "## Solving Knapsack with Genetic Algorithms\n",
    "\n",
    "![Knapsack Solutions](images/ks-solutions.png)\n",
    "\n",
    "In the last notebook we implemented the genetic algorithm function. This function receives the following arguments:\n",
    "- `initial_population`: List of individuals (randomly generated solutions)\n",
    "- `max_gen`: Maximum number of generations\n",
    "- `selection_algorithm`: A function that receives a population, selects one individual based on fitness and returns it\n",
    "- `maximization`: Boolean that indicates if we're solving a maximization or minimization problem\n",
    "- `xo_prob`: Probability of crossover (usually big)\n",
    "- `mut_prob`: Probability of mutation (usually small)\n",
    "- `elistism`: A boolean that indicates if elitism should be used or not\n",
    "\n",
    "For this function to work, we need to comply with some assumptions\n",
    "- individuals have `fitness`, `crossover` and `mutation` methods\n",
    "- `crossover` always returns two offspring\n",
    "- both `crossover` and `mutation` methods return new individuals instead of modifying individuals in-place\n",
    "\n",
    "To solve the Knapsack Problem (KS) using this GA framework, we can define a new class, `KSGASolution`, which extends `KSSolution`. This allows us to inherit methods like `fitness`, `random_initial_representation`, and the `repr` attribute.\n",
    "\n",
    "In `KSGASolution`, we'll implement the required `crossover` and `mutation` methods, adhering to the above assumptions.\n",
    "\n",
    "For simplicity, let's use the standard crossover and binary standard mutation."
   ]
  },
  {
   "cell_type": "code",
   "execution_count": null,
   "metadata": {},
   "outputs": [],
   "source": [
    "class KSGASolution(KSSolution):\n",
    "    # TODO\n",
    "    pass"
   ]
  },
  {
   "cell_type": "markdown",
   "metadata": {},
   "source": [
    "Or we could just the functions we implemented in the beginning of the notebook!"
   ]
  },
  {
   "cell_type": "code",
   "execution_count": null,
   "metadata": {},
   "outputs": [],
   "source": [
    "class KSGASolution(KSSolution):\n",
    "    # TODO\n",
    "    pass"
   ]
  },
  {
   "cell_type": "markdown",
   "metadata": {},
   "source": [
    "#### How can I test different crossover and mutation operators?\n",
    "\n",
    "There are two approaches:\n",
    "- Create separate classes for each combination of crossover and mutation operators.\n",
    "\n",
    "    For example:\n",
    "    - `KS_StdXO_StdMut_GASolution`\n",
    "    - `KS_StdXO_SwapMut_GASolution`\n",
    "\n",
    "    This method works but can quickly become repetitive and hard to maintain as the number of combinations grows.\n",
    "\n",
    "- Make the solution class accept crossover and mutation functions as parameters during initialization.\n",
    "\n",
    "    These functions would operate directly on the internal representation of the individual.\n",
    "    ✅ This approach is much more modular and flexible!\n",
    "    You can easily swap operators without needing to define new classes each time, making experimentation and tuning much easier."
   ]
  },
  {
   "cell_type": "code",
   "execution_count": null,
   "metadata": {},
   "outputs": [],
   "source": [
    "class KSGASolution(KSSolution):\n",
    "    def __init__(\n",
    "        self,\n",
    "        values,\n",
    "        weights,\n",
    "        capacity,\n",
    "        mutation_function, # Callable\n",
    "        crossover_function, # Callable\n",
    "        repr = None\n",
    "    ):\n",
    "        super().__init__(\n",
    "            values=values,\n",
    "            weights=weights,\n",
    "            capacity=capacity,\n",
    "            repr=repr,\n",
    "        )\n",
    "\n",
    "        # Save as attributes for access in methods\n",
    "        self.mutation_function = mutation_function\n",
    "        self.crossover_function = crossover_function\n",
    "\n",
    "    \n",
    "    def mutation(self, mut_prob):\n",
    "        # Apply mutation function to representation\n",
    "        new_repr = self.mutation_function(self.repr, mut_prob)\n",
    "        # Create and return individual with mutated representation\n",
    "        return KSGASolution(\n",
    "            values=self.values,\n",
    "            weights=self.weights,\n",
    "            capacity=self.capacity,\n",
    "            mutation_function=self.mutation_function,\n",
    "            crossover_function=self.crossover_function,\n",
    "            repr=new_repr\n",
    "        )\n",
    "\n",
    "    def crossover(self, other_solution):\n",
    "        # Apply crossover function to self representation and other solution representation\n",
    "        offspring1_repr, offspring2_repr = self.crossover_function(self.repr, other_solution.repr)\n",
    "\n",
    "        # Create and return offspring with new representations\n",
    "        return (\n",
    "            KSGASolution(\n",
    "                values=self.values,\n",
    "                weights=self.weights,\n",
    "                capacity=self.capacity,\n",
    "                mutation_function=self.mutation_function,\n",
    "                crossover_function=self.crossover_function,\n",
    "                repr=offspring1_repr\n",
    "            ),\n",
    "            KSGASolution(\n",
    "                values=self.values,\n",
    "                weights=self.weights,\n",
    "                capacity=self.capacity,\n",
    "                mutation_function=self.mutation_function,\n",
    "                crossover_function=self.crossover_function,\n",
    "                repr=offspring2_repr\n",
    "            )\n",
    "        )"
   ]
  },
  {
   "cell_type": "markdown",
   "metadata": {},
   "source": [
    "Let's test."
   ]
  },
  {
   "cell_type": "code",
   "execution_count": null,
   "metadata": {},
   "outputs": [],
   "source": [
    "repr = [0, 0, 0, 1, 1, 0, 0, 0, 1, 1, 0, 1, 1, 0, 0, 0, 0, 1, 1, 0, 1, 1, 0, 0, 1, 1, 0, 0, 1, 1, 0, 1, 1, 0, 1, 1, 0, 1, 0, 0, 1, 0, 0, 1, 1, 0, 0, 0, 1, 1]\n",
    "\n",
    "# Using std crossover and std mutation\n",
    "solution1 = KSGASolution(\n",
    "    values=values,\n",
    "    weights=weights,\n",
    "    capacity=capacity,\n",
    "    mutation_function=binary_standard_mutation,\n",
    "    crossover_function=standard_crossover,\n",
    "    repr=repr\n",
    ")\n",
    "\n",
    "\n",
    "# Using std crossover and swap mutation\n",
    "solution2 = KSGASolution(\n",
    "    values=values,\n",
    "    weights=weights,\n",
    "    capacity=capacity,\n",
    "    mutation_function=swap_mutation,\n",
    "    crossover_function=standard_crossover,\n",
    "    repr=repr\n",
    ")"
   ]
  },
  {
   "cell_type": "code",
   "execution_count": null,
   "metadata": {},
   "outputs": [],
   "source": [
    "# Apply binary standard mutation\n",
    "solution1.mutation(mut_prob=0.2)"
   ]
  },
  {
   "cell_type": "code",
   "execution_count": null,
   "metadata": {},
   "outputs": [],
   "source": [
    "# Apply swap mutation\n",
    "solution2.mutation(mut_prob=0.2)"
   ]
  },
  {
   "cell_type": "markdown",
   "metadata": {},
   "source": [
    "### Apply genetic algorithm\n",
    "\n",
    "Let's run the genetic algorithm to solve Knapsack using standard crossover and standard binary mutation"
   ]
  },
  {
   "cell_type": "code",
   "execution_count": null,
   "metadata": {},
   "outputs": [],
   "source": [
    "# TODO: Apply genetic algorithm to KS using standard crossover and binary standard mutation"
   ]
  },
  {
   "cell_type": "markdown",
   "metadata": {},
   "source": [
    "And finally, let's apply the genetic algorithm again, but this time using swap mutation with a higher probability since it is not as disruptive as standard binary mutation."
   ]
  },
  {
   "cell_type": "code",
   "execution_count": null,
   "metadata": {},
   "outputs": [],
   "source": [
    "# TODO: Apply genetic algorithm to KS using standard crossover and swap mutation"
   ]
  }
 ],
 "metadata": {
  "kernelspec": {
   "display_name": "venv",
   "language": "python",
   "name": "python3"
  },
  "language_info": {
   "codemirror_mode": {
    "name": "ipython",
    "version": 3
   },
   "file_extension": ".py",
   "mimetype": "text/x-python",
   "name": "python",
   "nbconvert_exporter": "python",
   "pygments_lexer": "ipython3",
   "version": "3.13.3"
  }
 },
 "nbformat": 4,
 "nbformat_minor": 2
}
