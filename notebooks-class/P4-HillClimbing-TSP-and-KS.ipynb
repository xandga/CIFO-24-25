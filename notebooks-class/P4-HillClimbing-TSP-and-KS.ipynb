{
 "cells": [
  {
   "cell_type": "code",
   "execution_count": 18,
   "metadata": {},
   "outputs": [],
   "source": [
    "import sys\n",
    "sys.path.append('..')"
   ]
  },
  {
   "cell_type": "code",
   "execution_count": 19,
   "metadata": {},
   "outputs": [],
   "source": [
    "from copy import deepcopy\n",
    "from random import shuffle, choice\n",
    "from library.solution import Solution\n",
    "from library.algorithms.hill_climbing import hill_climbing"
   ]
  },
  {
   "cell_type": "markdown",
   "metadata": {},
   "source": [
    "In previous notebooks, we defined the `Solution` class as an **abstract class** with methods that must be implemented by subclasses, depending on the specific optimization problem. While the implementation of solutions depend on the problem, all solutions share common principles: they require a **representation**, a **fitness function**, and a method for **random initialization**.\n",
    "\n",
    "By extending this class, we can define solution classes specific to different optimization problems. For example, we created the `IntBinSolution` class to represent solutions for the IntBin optimization problem.\n",
    "\n",
    "We then applied the Hill Climbing algorithm to the IntBin problem by further extending `IntBinSolution` to implement the `get_neighbors()` method, which is essential for Hill Climbing algorithm. To do this, we created a new class, `IntBinHillClimbingSolution`.\n",
    "\n",
    "Today, we'll use Hill Climbing to solve two new problems: the Traveling Salesperson Problem (TSP) and the Knapsack Problem (KS)."
   ]
  },
  {
   "cell_type": "markdown",
   "metadata": {},
   "source": [
    "## Traveling Salesperson Problem\n",
    "\n",
    "**Description:** The Traveling Salesperson Problem (TSP) is the challenge of finding the shortest possible route that starts in a given city, visits each of the remaining N-1 cities exactly once, and returns to the starting city.\n",
    "\n",
    "**Search space:** All possible permutations of city visit orders, forming valid round-trip routes.\n",
    "\n",
    "**Representation:** List of city indexes that compose the route\n",
    "\n",
    "**Fitness function:** f(x) = Total distance traveled, computed as the sum of distances between consecutive cities in the route.\n",
    "\n",
    "**Goal:** Minimize f(x)."
   ]
  },
  {
   "cell_type": "markdown",
   "metadata": {},
   "source": [
    "Let's begin by implementing the `TSPSolution` class, which inherits from `Solution`. As a result, it must implement the `fitness()` and `random_initial_representation()` methods.\n",
    "\n",
    "This class represents a solution to the Traveling Salesperson Problem (TSP) and does not include any implementation related to the optimization algorithm that will be used to solve it.\n",
    "\n",
    "![TSP Solution](images/tsp-solution.png)"
   ]
  },
  {
   "cell_type": "code",
   "execution_count": 21,
   "metadata": {},
   "outputs": [
    {
     "data": {
      "text/plain": [
       "[1, 3, 2]"
      ]
     },
     "execution_count": 21,
     "metadata": {},
     "output_type": "execute_result"
    }
   ],
   "source": [
    "from random import shuffle\n",
    "\n",
    "l=[1,2,3]\n",
    "\n",
    "shuffle(l)\n",
    "l"
   ]
  },
  {
   "cell_type": "code",
   "execution_count": 22,
   "metadata": {},
   "outputs": [
    {
     "data": {
      "text/plain": [
       "3"
      ]
     },
     "execution_count": 22,
     "metadata": {},
     "output_type": "execute_result"
    }
   ],
   "source": [
    "len(l)"
   ]
  },
  {
   "cell_type": "code",
   "execution_count": 23,
   "metadata": {},
   "outputs": [],
   "source": [
    "from library.problems.data.tsp_data import distance_matrix\n",
    "\n",
    "#add some data and functions to work with it\n",
    "#we have the python file in the data folder CIFO-24-25\\library\\problems\\data\n",
    "class TSPSolution(Solution):\n",
    "    def __init__(self, repr=None, distance_matrix=distance_matrix, starting_idx=0): #setting the distance matrix from tsp data as the default\n",
    "        self.distance_matrix = distance_matrix #self to store as an attribute\n",
    "        self.starting_idx= starting_idx \n",
    "        super().__init__(repr=repr) #call the constructor of the parent class\n",
    "        \n",
    "    def random_initial_representation(self):\n",
    "        route = {self.starting_idx}\n",
    "        remaining_city_idx =[idx for idx in range(len(self.distance_matrix)) if idx != self.starting_idx]\n",
    "        shuffle(remaining_city_idx)\n",
    "        route = route + remaining_city_idx\n",
    "        route.append(self.starting_idx)\n",
    "        return route\n",
    "    \n",
    "    #now we have to implement the fitness method \n",
    "    def fitness(self):\n",
    "        total_distance = 0 \n",
    "        for list_idx in range(0, len(self.repr)-1):\n",
    "            first_city_ix= self.repr[list_idx]\n",
    "            next_city_ix = self.repr[list_idx+1]\n",
    "            distance = self.distance_matrix[first_city_ix][next_city_ix]\n",
    "            total_distance += distance\n",
    "            # total_distance += self.distance_matrix[self.repr[i]][self.repr[i+1]]\n",
    "        return total_distance\n",
    "#TODO: Implement TSPSolution class"
   ]
  },
  {
   "cell_type": "markdown",
   "metadata": {},
   "source": [
    "Let's test it"
   ]
  },
  {
   "cell_type": "code",
   "execution_count": 24,
   "metadata": {},
   "outputs": [
    {
     "ename": "TypeError",
     "evalue": "unsupported operand type(s) for +: 'set' and 'list'",
     "output_type": "error",
     "traceback": [
      "\u001b[1;31m---------------------------------------------------------------------------\u001b[0m",
      "\u001b[1;31mTypeError\u001b[0m                                 Traceback (most recent call last)",
      "Cell \u001b[1;32mIn[24], line 1\u001b[0m\n\u001b[1;32m----> 1\u001b[0m solution \u001b[38;5;241m=\u001b[39m TSPSolution()\n\u001b[0;32m      3\u001b[0m \u001b[38;5;28mprint\u001b[39m(\u001b[38;5;124m'\u001b[39m\u001b[38;5;124mRandom solution:\u001b[39m\u001b[38;5;124m'\u001b[39m, solution)\n\u001b[0;32m      4\u001b[0m \u001b[38;5;28mprint\u001b[39m(\u001b[38;5;124m'\u001b[39m\u001b[38;5;124mFitness:\u001b[39m\u001b[38;5;124m'\u001b[39m, solution\u001b[38;5;241m.\u001b[39mfitness())\n",
      "Cell \u001b[1;32mIn[23], line 9\u001b[0m, in \u001b[0;36mTSPSolution.__init__\u001b[1;34m(self, repr, distance_matrix, starting_idx)\u001b[0m\n\u001b[0;32m      7\u001b[0m \u001b[38;5;28mself\u001b[39m\u001b[38;5;241m.\u001b[39mdistance_matrix \u001b[38;5;241m=\u001b[39m distance_matrix \u001b[38;5;66;03m#self to store as an attribute\u001b[39;00m\n\u001b[0;32m      8\u001b[0m \u001b[38;5;28mself\u001b[39m\u001b[38;5;241m.\u001b[39mstarting_idx\u001b[38;5;241m=\u001b[39m starting_idx \n\u001b[1;32m----> 9\u001b[0m \u001b[38;5;28msuper\u001b[39m()\u001b[38;5;241m.\u001b[39m\u001b[38;5;21m__init__\u001b[39m(\u001b[38;5;28mrepr\u001b[39m\u001b[38;5;241m=\u001b[39m\u001b[38;5;28mrepr\u001b[39m)\n",
      "File \u001b[1;32mc:\\Users\\xandg\\Ambiente de Trabalho\\IMS\\3rd year\\1st Semester\\Capstone Project\\OpenAI\\Capstone-Project\\CIFO-24-25\\notebooks-class\\..\\library\\solution.py:7\u001b[0m, in \u001b[0;36mSolution.__init__\u001b[1;34m(self, repr)\u001b[0m\n\u001b[0;32m      4\u001b[0m \u001b[38;5;28;01mdef\u001b[39;00m \u001b[38;5;21m__init__\u001b[39m(\u001b[38;5;28mself\u001b[39m, \u001b[38;5;28mrepr\u001b[39m\u001b[38;5;241m=\u001b[39m\u001b[38;5;28;01mNone\u001b[39;00m):\n\u001b[0;32m      5\u001b[0m     \u001b[38;5;66;03m# To initialize a solution we need to know it's representation. If no representation is given, a solution is randomly initialized.\u001b[39;00m\n\u001b[0;32m      6\u001b[0m     \u001b[38;5;28;01mif\u001b[39;00m \u001b[38;5;28mrepr\u001b[39m \u001b[38;5;241m==\u001b[39m \u001b[38;5;28;01mNone\u001b[39;00m:\n\u001b[1;32m----> 7\u001b[0m         \u001b[38;5;28mrepr\u001b[39m \u001b[38;5;241m=\u001b[39m \u001b[38;5;28mself\u001b[39m\u001b[38;5;241m.\u001b[39mrandom_initial_representation()\n\u001b[0;32m      8\u001b[0m     \u001b[38;5;66;03m# Attributes\u001b[39;00m\n\u001b[0;32m      9\u001b[0m     \u001b[38;5;28mself\u001b[39m\u001b[38;5;241m.\u001b[39mrepr \u001b[38;5;241m=\u001b[39m \u001b[38;5;28mrepr\u001b[39m\n",
      "Cell \u001b[1;32mIn[23], line 15\u001b[0m, in \u001b[0;36mTSPSolution.random_initial_representation\u001b[1;34m(self)\u001b[0m\n\u001b[0;32m     13\u001b[0m remaining_city_idx \u001b[38;5;241m=\u001b[39m[idx \u001b[38;5;28;01mfor\u001b[39;00m idx \u001b[38;5;129;01min\u001b[39;00m \u001b[38;5;28mrange\u001b[39m(\u001b[38;5;28mlen\u001b[39m(\u001b[38;5;28mself\u001b[39m\u001b[38;5;241m.\u001b[39mdistance_matrix)) \u001b[38;5;28;01mif\u001b[39;00m idx \u001b[38;5;241m!=\u001b[39m \u001b[38;5;28mself\u001b[39m\u001b[38;5;241m.\u001b[39mstarting_idx]\n\u001b[0;32m     14\u001b[0m shuffle(remaining_city_idx)\n\u001b[1;32m---> 15\u001b[0m route \u001b[38;5;241m=\u001b[39m route \u001b[38;5;241m+\u001b[39m remaining_city_idx\n\u001b[0;32m     16\u001b[0m route\u001b[38;5;241m.\u001b[39mappend(\u001b[38;5;28mself\u001b[39m\u001b[38;5;241m.\u001b[39mstarting_idx)\n\u001b[0;32m     17\u001b[0m \u001b[38;5;28;01mreturn\u001b[39;00m route\n",
      "\u001b[1;31mTypeError\u001b[0m: unsupported operand type(s) for +: 'set' and 'list'"
     ]
    }
   ],
   "source": [
    "solution = TSPSolution()\n",
    "\n",
    "print('Random solution:', solution)\n",
    "print('Fitness:', solution.fitness())"
   ]
  },
  {
   "cell_type": "markdown",
   "metadata": {},
   "source": [
    "### Solving TSP with Hill Climbing\n",
    "\n",
    "To use Hill Climbing to solve TSP we need to define a `TSPHillClimbingSolution` class that implements the `get_neighbors()` method. We also need to ensure that this function returns a list of solutions that also implement the `get_neighbors()` method, therefore, return a list of solutions of type `TSPHillClimbingSolution` too.\n",
    "\n",
    "A TSP neighbor solution is obtained by swapping the positions of two consecutive cities in the route.\n",
    "\n",
    "![TSP Hill Climbing Solution](images/tsp-hillclimbing-solution.png)"
   ]
  },
  {
   "cell_type": "code",
   "execution_count": null,
   "metadata": {},
   "outputs": [],
   "source": [
    "class TSPSHillClimbingSolution(TSPSolution):\n",
    "    def get_neighbors(self):\n",
    "        neighbors = []\n",
    "        for list_idx in range(1, len(self.repr) -2):\n",
    "            neighbor_repr= deepcopy(self.repr)\n",
    "            neighbor_repr[list_idx] = self.repr[list_idx+1]\n",
    "            neighbor_repr[list_idx+1] = self.repr[list_idx]\n",
    "            \n",
    "            neighbor = TSPSHillClimbingSolution(repr=neighbor_repr, \n",
    "                                                distance_matrix=self.distance_matrix, \n",
    "                                                starting_idx=self.starting_idx)\n",
    "            \n",
    "            neighbors.append(neighbor)\n",
    "        return neighbors\n",
    "    \n",
    "    \n",
    "#in this case if we have n cities we have n-2 neighbors"
   ]
  },
  {
   "cell_type": "markdown",
   "metadata": {},
   "source": [
    "Let's test it"
   ]
  },
  {
   "cell_type": "code",
   "execution_count": null,
   "metadata": {},
   "outputs": [],
   "source": [
    "solution = TSPHillClimbingSolution()\n",
    "print('Solution:', solution)\n",
    "\n",
    "neighbors = solution.get_neighbors()\n",
    "print('Neihghbors:')\n",
    "for neighbor in neighbors:\n",
    "    print(neighbor)"
   ]
  },
  {
   "cell_type": "markdown",
   "metadata": {},
   "source": [
    "And now we can apply the hill climbing algorithm by passing it a random initial solution."
   ]
  },
  {
   "cell_type": "code",
   "execution_count": null,
   "metadata": {},
   "outputs": [],
   "source": [
    "#TODO: Apply hill climbing to TSP\n",
    "initial_solution = TSPSHillClimbingSolution() #random solution with a random representation\n",
    "hill_climbing(initial_solution, maximization=False, verbose=True)"
   ]
  },
  {
   "cell_type": "markdown",
   "metadata": {},
   "source": [
    "The implementations of `TSPSolution` and `TSPHillClimbingSolution` can be found in `library/problems/tsp.py`"
   ]
  },
  {
   "cell_type": "markdown",
   "metadata": {},
   "source": [
    "## Knapsack Problem\n",
    "\n",
    "**Description:** The Knapsack Problem involves selecting a subset of N items, each with a given value and weight, to pack into a container with a fixed capacity. If the total weight of selected items exceeds the capacity, the solution is invalid. The goal is to maximize the total value of items while ensuring they fit within the container's constraints.\n",
    "\n",
    "**Search space:** All possible subsets of items that can be placed in the knapsack.\n",
    "\n",
    "**Representation:** Binary string of length N (number of items), where 1 indicates the item is included in the knapsack and 0 indicates the item is excluded.\n",
    "\n",
    "**Fitness function:** f(x)= Total value inside the knapsack. If the total size exceeds the knapsack's capacity, the solution is invalid and assigned a fitness of -inf.\n",
    "\n",
    "**Goal:** Maximize f(x)."
   ]
  },
  {
   "cell_type": "markdown",
   "metadata": {},
   "source": [
    "Similarly to what we've done for TSP, let's begin by implementing the `KSSolution` class, which inherits from `Solution` and implementes the `fitness()` and `random_initial_representation()` methods.\n",
    "\n",
    "This class represents a solution to the Knapsack problem (KS) and does not include any implementation related to the optimization algorithm that will be used to solve it."
   ]
  },
  {
   "cell_type": "code",
   "execution_count": 25,
   "metadata": {},
   "outputs": [],
   "source": [
    "from library.problems.data.ks_data import values, weights, capacity\n",
    "from random import choice\n",
    "# we can also set the fitness as- total_capacity \n",
    "\n",
    "#try to get out of the fitnes bad landscape (?)\n",
    "\n",
    "#TODO: Implement KSSolution class\n",
    "class KSSolution(Solution):\n",
    "    def __init__(self, values, weights, capacity,  repr=None):\n",
    "        self.values = values\n",
    "        self.weights = weights\n",
    "        self.capacity = capacity\n",
    "        super().__init__(repr=repr) #saving as an attribute the values, weights and capacity\n",
    "        \n",
    "        #implementing the random initial representation\n",
    "    def random_initial_representation(self):\n",
    "        repr = [] \n",
    "        #now lets add a zero or a one \n",
    "        for item_idx in range(len(self.values)):\n",
    "            repr.append(choice([0,1])) #randomly choose 0 or 1\n",
    "        return repr\n",
    "    \n",
    "    def total_weight(self):\n",
    "        total_weight = 0\n",
    "        for item_idx in range(len(self.repr)):\n",
    "            if self.repr[item_idx] == 1:\n",
    "                total_weight += self.weights[item_idx]\n",
    "        return total_weight\n",
    "    \n",
    "    def total_value(self):\n",
    "        total_value = 0\n",
    "        for item_idx in range(len(self.repr)):\n",
    "            if self.repr[item_idx] == 1:\n",
    "                total_value += self.values[item_idx]\n",
    "        return total_value\n",
    "    \n",
    "    #total value and total weight are the helper fitness functions just to be more clear and more readable\n",
    "    \n",
    "    def fitness(self):\n",
    "        total_weight = self.total_weight()\n",
    "        if total_weight > self.capacity:\n",
    "            return -999999999999999\n",
    "        else:\n",
    "            return self.total_value()"
   ]
  },
  {
   "cell_type": "markdown",
   "metadata": {},
   "source": [
    "Let's test it"
   ]
  },
  {
   "cell_type": "code",
   "execution_count": 36,
   "metadata": {},
   "outputs": [
    {
     "name": "stdout",
     "output_type": "stream",
     "text": [
      "[1, 0, 0, 0, 1, 0, 0, 1, 1, 0, 1, 0, 0, 0, 1, 0, 1, 1, 1, 0, 1, 1, 1, 1, 0, 0, 1, 1, 1, 1, 0, 0, 1, 0, 0, 0, 0, 1, 0, 0, 0, 0, 1, 1, 0, 1, 1, 1, 0, 0]\n",
      "-999999999999999\n"
     ]
    }
   ],
   "source": [
    "solution = KSSolution(values=values, weights=weights, capacity=capacity)\n",
    "\n",
    "print(solution)\n",
    "print(solution.fitness())"
   ]
  },
  {
   "cell_type": "markdown",
   "metadata": {},
   "source": [
    "### Solving KS with Hill Climbing\n",
    "\n",
    "A neighbor solution is obtained by flipping a single bit, meaning adding one item to the knapsack, or removing one item from the knapsack.\n",
    "\n",
    "Let's create the `KSHillClimbingSolution` that inherits from `KSSolution` and implements the `get_neighbors` method.\n"
   ]
  },
  {
   "cell_type": "code",
   "execution_count": 37,
   "metadata": {},
   "outputs": [],
   "source": [
    "#TODO: Implement KSHillClimbingSolution class\n",
    "def KSHillClimbingSolution(KSSolution):\n",
    "    def get_neighbors(self):\n",
    "        neighbors = []\n",
    "        for item_idx in range(len(self.repr)):\n",
    "            neighbor_repr = deepcopy(self.repr)\n",
    "            if self.repr[item_idx] == 1:\n",
    "                neighbor_repr[item_idx] = 0\n",
    "            else:\n",
    "                neighbor_repr[item_idx] = 1\n",
    "            \n",
    "            neighbor = KSHillClimbingSolution(values=self.values, weights=self.weights, capacity=self.capacity, repr=neighbor_repr)\n",
    "            neighbors.append(neighbor)\n",
    "        return neighbors    "
   ]
  },
  {
   "cell_type": "markdown",
   "metadata": {},
   "source": [
    "Let's test it"
   ]
  },
  {
   "cell_type": "code",
   "execution_count": 38,
   "metadata": {},
   "outputs": [
    {
     "ename": "TypeError",
     "evalue": "KSHillClimbingSolution() got an unexpected keyword argument 'values'",
     "output_type": "error",
     "traceback": [
      "\u001b[1;31m---------------------------------------------------------------------------\u001b[0m",
      "\u001b[1;31mTypeError\u001b[0m                                 Traceback (most recent call last)",
      "Cell \u001b[1;32mIn[38], line 1\u001b[0m\n\u001b[1;32m----> 1\u001b[0m solution \u001b[38;5;241m=\u001b[39m KSHillClimbingSolution(values\u001b[38;5;241m=\u001b[39mvalues, weights\u001b[38;5;241m=\u001b[39mweights, capacity\u001b[38;5;241m=\u001b[39mcapacity)\n\u001b[0;32m      2\u001b[0m \u001b[38;5;28mprint\u001b[39m(\u001b[38;5;124m'\u001b[39m\u001b[38;5;124mSolution:\u001b[39m\u001b[38;5;124m'\u001b[39m, solution)\n\u001b[0;32m      4\u001b[0m neighbors \u001b[38;5;241m=\u001b[39m solution\u001b[38;5;241m.\u001b[39mget_neighbors()\n",
      "\u001b[1;31mTypeError\u001b[0m: KSHillClimbingSolution() got an unexpected keyword argument 'values'"
     ]
    }
   ],
   "source": [
    "solution = KSHillClimbingSolution(values=values, weights=weights, capacity=capacity)\n",
    "print('Solution:', solution)\n",
    "\n",
    "neighbors = solution.get_neighbors()\n",
    "print('Neihghbors:')\n",
    "for neighbor in neighbors:\n",
    "    print(neighbor)"
   ]
  },
  {
   "cell_type": "markdown",
   "metadata": {},
   "source": [
    "And now we can apply the hill climbing algorithm by passing it a random initial solution."
   ]
  },
  {
   "cell_type": "code",
   "execution_count": null,
   "metadata": {},
   "outputs": [],
   "source": [
    "#TODO: Apply hill climbing to KS problem\n",
    "initial_solution = KSHillClimbingSolution(values=values, weights=weights, capacity=capacity)\n",
    "best_solution = hill_climbing(initial_solution, maximization=True, verbose=True)\n",
    "print('Best solution:', best_solution)\n",
    "print('Fitness:', best_solution.fitness())"
   ]
  },
  {
   "cell_type": "markdown",
   "metadata": {},
   "source": [
    "The implementations of `KSSolution` and `KSHillClimbingSolution` can be found in `library/problems/knapsack.py`"
   ]
  }
 ],
 "metadata": {
  "kernelspec": {
   "display_name": "Python 3",
   "language": "python",
   "name": "python3"
  },
  "language_info": {
   "codemirror_mode": {
    "name": "ipython",
    "version": 3
   },
   "file_extension": ".py",
   "mimetype": "text/x-python",
   "name": "python",
   "nbconvert_exporter": "python",
   "pygments_lexer": "ipython3",
   "version": "3.11.3"
  }
 },
 "nbformat": 4,
 "nbformat_minor": 2
}
